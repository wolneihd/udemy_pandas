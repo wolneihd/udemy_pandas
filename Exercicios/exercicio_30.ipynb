{
 "cells": [
  {
   "cell_type": "code",
   "execution_count": 9,
   "metadata": {},
   "outputs": [],
   "source": [
    "# If you see a test failure when checking your solution,\n",
    "# note that [left] refers to YOUR code while [right]\n",
    "# refers to the correct code that the computer is comparing\n",
    "# to your work\n",
    "\n",
    "# Let's start by importing pandas below\n",
    "import pandas as pd"
   ]
  },
  {
   "cell_type": "code",
   "execution_count": 10,
   "metadata": {},
   "outputs": [
    {
     "data": {
      "text/html": [
       "<div>\n",
       "<style scoped>\n",
       "    .dataframe tbody tr th:only-of-type {\n",
       "        vertical-align: middle;\n",
       "    }\n",
       "\n",
       "    .dataframe tbody tr th {\n",
       "        vertical-align: top;\n",
       "    }\n",
       "\n",
       "    .dataframe thead th {\n",
       "        text-align: right;\n",
       "    }\n",
       "</style>\n",
       "<table border=\"1\" class=\"dataframe\">\n",
       "  <thead>\n",
       "    <tr style=\"text-align: right;\">\n",
       "      <th></th>\n",
       "      <th></th>\n",
       "      <th>latitude</th>\n",
       "      <th>longitude</th>\n",
       "    </tr>\n",
       "    <tr>\n",
       "      <th>state</th>\n",
       "      <th>city</th>\n",
       "      <th></th>\n",
       "      <th></th>\n",
       "    </tr>\n",
       "  </thead>\n",
       "  <tbody>\n",
       "    <tr>\n",
       "      <th rowspan=\"5\" valign=\"top\">AL</th>\n",
       "      <th>Anniston</th>\n",
       "      <td>33.6539</td>\n",
       "      <td>-85.8382</td>\n",
       "    </tr>\n",
       "    <tr>\n",
       "      <th>Flomaton</th>\n",
       "      <td>31.0402</td>\n",
       "      <td>-87.2664</td>\n",
       "    </tr>\n",
       "    <tr>\n",
       "      <th>Madison</th>\n",
       "      <td>34.7108</td>\n",
       "      <td>-86.7425</td>\n",
       "    </tr>\n",
       "    <tr>\n",
       "      <th>Mobile</th>\n",
       "      <td>30.6820</td>\n",
       "      <td>-88.0678</td>\n",
       "    </tr>\n",
       "    <tr>\n",
       "      <th>Tuskegee</th>\n",
       "      <td>32.4316</td>\n",
       "      <td>-85.6861</td>\n",
       "    </tr>\n",
       "  </tbody>\n",
       "</table>\n",
       "</div>"
      ],
      "text/plain": [
       "                latitude  longitude\n",
       "state city                         \n",
       "AL    Anniston   33.6539   -85.8382\n",
       "      Flomaton   31.0402   -87.2664\n",
       "      Madison    34.7108   -86.7425\n",
       "      Mobile     30.6820   -88.0678\n",
       "      Tuskegee   32.4316   -85.6861"
      ]
     },
     "execution_count": 10,
     "metadata": {},
     "output_type": "execute_result"
    }
   ],
   "source": [
    "# This challenge includes a subway_locations.csv dataset.\n",
    "# It is a listing of all US locations of the Subway fast food restaurant chain.\n",
    "# The dataset has 4 columns:\n",
    "# city,state,latitude,longitude\n",
    "\n",
    "# CHALLENGE 1:\n",
    "# Import the subway_locations.csv file into a DataFrame. \n",
    "# Create a MultiIndex with the levels coming from the 'state' and 'city' columns (in that order)\n",
    "# Sort the index (all columns must be sorted) and assign the resulting DataFrame to a 'subway' variable.\n",
    "subway = pd.read_csv('subway_locations.csv', index_col=['state','city']).sort_index()\n",
    "subway.head()\n",
    "\n"
   ]
  },
  {
   "cell_type": "code",
   "execution_count": 11,
   "metadata": {},
   "outputs": [
    {
     "data": {
      "text/plain": [
       "Index(['Anniston', 'Flomaton', 'Madison', 'Mobile', 'Tuskegee', 'Clarksville',\n",
       "       'Heber Springs', 'Rogers', 'Springdale', 'Chandler',\n",
       "       ...\n",
       "       'Federal Way', 'Fife', 'Eau Claire', 'Galesville', 'Green Bay',\n",
       "       'Hubertus', 'Milwaukee', 'Sun Prairie', 'Weston', 'Wheeling'],\n",
       "      dtype='object', name='city', length=227)"
      ]
     },
     "execution_count": 11,
     "metadata": {},
     "output_type": "execute_result"
    }
   ],
   "source": [
    "# CHALLENGE 2:\n",
    "# Using your DataFrame, access the Index holding the values from \n",
    "# the 'city' level. Assign the Index to a `city_index` variable.\n",
    "city_index = subway.index.get_level_values('city')\n",
    "city_index"
   ]
  },
  {
   "cell_type": "code",
   "execution_count": 12,
   "metadata": {},
   "outputs": [
    {
     "data": {
      "text/plain": [
       "Index(['AL', 'AL', 'AL', 'AL', 'AL', 'AR', 'AR', 'AR', 'AR', 'AZ',\n",
       "       ...\n",
       "       'WA', 'WA', 'WI', 'WI', 'WI', 'WI', 'WI', 'WI', 'WI', 'WV'],\n",
       "      dtype='object', name='state', length=227)"
      ]
     },
     "execution_count": 12,
     "metadata": {},
     "output_type": "execute_result"
    }
   ],
   "source": [
    "# CHALLENGE 3:\n",
    "# Using your DataFrame, access the Index holding the values from \n",
    "# the 'state' level. Assign the Index to a `state_index` variable.\n",
    "state_index = subway.index.get_level_values('state')\n",
    "state_index"
   ]
  }
 ],
 "metadata": {
  "kernelspec": {
   "display_name": "Python 3",
   "language": "python",
   "name": "python3"
  },
  "language_info": {
   "codemirror_mode": {
    "name": "ipython",
    "version": 3
   },
   "file_extension": ".py",
   "mimetype": "text/x-python",
   "name": "python",
   "nbconvert_exporter": "python",
   "pygments_lexer": "ipython3",
   "version": "3.12.3"
  }
 },
 "nbformat": 4,
 "nbformat_minor": 2
}
