{
 "cells": [
  {
   "cell_type": "code",
   "execution_count": 2,
   "metadata": {},
   "outputs": [],
   "source": [
    "# If you see a test failure when checking your solution,\n",
    "# note that [left] refers to YOUR code while [right]\n",
    "# refers to the correct code that the computer is comparing\n",
    "# to your work\n",
    "import pandas as pd"
   ]
  },
  {
   "cell_type": "code",
   "execution_count": 6,
   "metadata": {},
   "outputs": [
    {
     "data": {
      "text/html": [
       "<div>\n",
       "<style scoped>\n",
       "    .dataframe tbody tr th:only-of-type {\n",
       "        vertical-align: middle;\n",
       "    }\n",
       "\n",
       "    .dataframe tbody tr th {\n",
       "        vertical-align: top;\n",
       "    }\n",
       "\n",
       "    .dataframe thead th {\n",
       "        text-align: right;\n",
       "    }\n",
       "</style>\n",
       "<table border=\"1\" class=\"dataframe\">\n",
       "  <thead>\n",
       "    <tr style=\"text-align: right;\">\n",
       "      <th></th>\n",
       "      <th></th>\n",
       "      <th>latitude</th>\n",
       "      <th>longitude</th>\n",
       "    </tr>\n",
       "    <tr>\n",
       "      <th>state</th>\n",
       "      <th>city</th>\n",
       "      <th></th>\n",
       "      <th></th>\n",
       "    </tr>\n",
       "  </thead>\n",
       "  <tbody>\n",
       "    <tr>\n",
       "      <th rowspan=\"5\" valign=\"top\">AL</th>\n",
       "      <th>Anniston</th>\n",
       "      <td>33.6539</td>\n",
       "      <td>-85.8382</td>\n",
       "    </tr>\n",
       "    <tr>\n",
       "      <th>Flomaton</th>\n",
       "      <td>31.0402</td>\n",
       "      <td>-87.2664</td>\n",
       "    </tr>\n",
       "    <tr>\n",
       "      <th>Madison</th>\n",
       "      <td>34.7108</td>\n",
       "      <td>-86.7425</td>\n",
       "    </tr>\n",
       "    <tr>\n",
       "      <th>Mobile</th>\n",
       "      <td>30.6820</td>\n",
       "      <td>-88.0678</td>\n",
       "    </tr>\n",
       "    <tr>\n",
       "      <th>Tuskegee</th>\n",
       "      <td>32.4316</td>\n",
       "      <td>-85.6861</td>\n",
       "    </tr>\n",
       "  </tbody>\n",
       "</table>\n",
       "</div>"
      ],
      "text/plain": [
       "                latitude  longitude\n",
       "state city                         \n",
       "AL    Anniston   33.6539   -85.8382\n",
       "      Flomaton   31.0402   -87.2664\n",
       "      Madison    34.7108   -86.7425\n",
       "      Mobile     30.6820   -88.0678\n",
       "      Tuskegee   32.4316   -85.6861"
      ]
     },
     "execution_count": 6,
     "metadata": {},
     "output_type": "execute_result"
    }
   ],
   "source": [
    "# This challenge includes a subway_locations.csv dataset.\n",
    "# It is a listing of all US locations of the Subway fast food restaurant chain.\n",
    "# The dataset has 4 columns:\n",
    "# city,state,latitude,longitude\n",
    "\n",
    "# CHALLENGE 1:\n",
    "# Import the subway_locations.csv file into a DataFrame. \n",
    "# Use the 'index_col' parameter to attach a MultiIndex with levels\n",
    "# coming from the 'state' and 'city' columns (in that order)\n",
    "# Sort the DataFrame by both index levels (in regular ascending order)\n",
    "# Assign the resulting DataFrame to a 'subway' variable.\n",
    "subway = pd.read_csv('subway_locations.csv', index_col=['state','city']).sort_index()\n",
    "subway.head()"
   ]
  },
  {
   "cell_type": "code",
   "execution_count": 9,
   "metadata": {},
   "outputs": [
    {
     "data": {
      "text/html": [
       "<div>\n",
       "<style scoped>\n",
       "    .dataframe tbody tr th:only-of-type {\n",
       "        vertical-align: middle;\n",
       "    }\n",
       "\n",
       "    .dataframe tbody tr th {\n",
       "        vertical-align: top;\n",
       "    }\n",
       "\n",
       "    .dataframe thead th {\n",
       "        text-align: right;\n",
       "    }\n",
       "</style>\n",
       "<table border=\"1\" class=\"dataframe\">\n",
       "  <thead>\n",
       "    <tr style=\"text-align: right;\">\n",
       "      <th></th>\n",
       "      <th></th>\n",
       "      <th>latitude</th>\n",
       "      <th>longitude</th>\n",
       "    </tr>\n",
       "    <tr>\n",
       "      <th>state</th>\n",
       "      <th>city</th>\n",
       "      <th></th>\n",
       "      <th></th>\n",
       "    </tr>\n",
       "  </thead>\n",
       "  <tbody>\n",
       "    <tr>\n",
       "      <th>OK</th>\n",
       "      <th>Broken Arrow</th>\n",
       "      <td>36.0447</td>\n",
       "      <td>-95.8079</td>\n",
       "    </tr>\n",
       "  </tbody>\n",
       "</table>\n",
       "</div>"
      ],
      "text/plain": [
       "                    latitude  longitude\n",
       "state city                             \n",
       "OK    Broken Arrow   36.0447   -95.8079"
      ]
     },
     "execution_count": 9,
     "metadata": {},
     "output_type": "execute_result"
    }
   ],
   "source": [
    "# CHALLENGE 2:\n",
    "# Extract the row(s) with a 'state' level value of 'OK' and a\n",
    "# 'city' level value of 'Broken Arrow'. Assign the result to a\n",
    "# 'broken_arrow' variable.\n",
    "broken_arrow = subway.loc[('OK','Broken Arrow')]\n",
    "broken_arrow\n"
   ]
  },
  {
   "cell_type": "code",
   "execution_count": 10,
   "metadata": {},
   "outputs": [
    {
     "data": {
      "text/html": [
       "<div>\n",
       "<style scoped>\n",
       "    .dataframe tbody tr th:only-of-type {\n",
       "        vertical-align: middle;\n",
       "    }\n",
       "\n",
       "    .dataframe tbody tr th {\n",
       "        vertical-align: top;\n",
       "    }\n",
       "\n",
       "    .dataframe thead th {\n",
       "        text-align: right;\n",
       "    }\n",
       "</style>\n",
       "<table border=\"1\" class=\"dataframe\">\n",
       "  <thead>\n",
       "    <tr style=\"text-align: right;\">\n",
       "      <th></th>\n",
       "      <th></th>\n",
       "      <th>latitude</th>\n",
       "      <th>longitude</th>\n",
       "    </tr>\n",
       "    <tr>\n",
       "      <th>state</th>\n",
       "      <th>city</th>\n",
       "      <th></th>\n",
       "      <th></th>\n",
       "    </tr>\n",
       "  </thead>\n",
       "  <tbody>\n",
       "    <tr>\n",
       "      <th>FL</th>\n",
       "      <th>Winter Park</th>\n",
       "      <td>28.5974</td>\n",
       "      <td>-81.3036</td>\n",
       "    </tr>\n",
       "  </tbody>\n",
       "</table>\n",
       "</div>"
      ],
      "text/plain": [
       "                   latitude  longitude\n",
       "state city                            \n",
       "FL    Winter Park   28.5974   -81.3036"
      ]
     },
     "execution_count": 10,
     "metadata": {},
     "output_type": "execute_result"
    }
   ],
   "source": [
    "# CHALLENGE 3:\n",
    "# Extract the row(s) with a 'state' level value of 'FL' and a\n",
    "# 'city' level value of 'Winter Park'. Assign the result to a\n",
    "# 'winter_park' variable.\n",
    "winter_park = subway.loc[('FL','Winter Park')]\n",
    "winter_park"
   ]
  }
 ],
 "metadata": {
  "kernelspec": {
   "display_name": "Python 3",
   "language": "python",
   "name": "python3"
  },
  "language_info": {
   "codemirror_mode": {
    "name": "ipython",
    "version": 3
   },
   "file_extension": ".py",
   "mimetype": "text/x-python",
   "name": "python",
   "nbconvert_exporter": "python",
   "pygments_lexer": "ipython3",
   "version": "3.12.3"
  }
 },
 "nbformat": 4,
 "nbformat_minor": 2
}
