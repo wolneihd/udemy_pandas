{
 "cells": [
  {
   "cell_type": "code",
   "execution_count": 25,
   "metadata": {},
   "outputs": [],
   "source": [
    "import pandas as pd"
   ]
  },
  {
   "cell_type": "code",
   "execution_count": 26,
   "metadata": {},
   "outputs": [
    {
     "data": {
      "text/html": [
       "<div>\n",
       "<style scoped>\n",
       "    .dataframe tbody tr th:only-of-type {\n",
       "        vertical-align: middle;\n",
       "    }\n",
       "\n",
       "    .dataframe tbody tr th {\n",
       "        vertical-align: top;\n",
       "    }\n",
       "\n",
       "    .dataframe thead th {\n",
       "        text-align: right;\n",
       "    }\n",
       "</style>\n",
       "<table border=\"1\" class=\"dataframe\">\n",
       "  <thead>\n",
       "    <tr style=\"text-align: right;\">\n",
       "      <th></th>\n",
       "      <th>nome</th>\n",
       "      <th>fabricante</th>\n",
       "      <th>quantidade</th>\n",
       "      <th>valor</th>\n",
       "    </tr>\n",
       "  </thead>\n",
       "  <tbody>\n",
       "    <tr>\n",
       "      <th>0</th>\n",
       "      <td>Smartphone XYZ</td>\n",
       "      <td>TechCorp</td>\n",
       "      <td>50</td>\n",
       "      <td>1499.99</td>\n",
       "    </tr>\n",
       "    <tr>\n",
       "      <th>1</th>\n",
       "      <td>Notebook Pro</td>\n",
       "      <td>CompuWorld</td>\n",
       "      <td>30</td>\n",
       "      <td>3299.90</td>\n",
       "    </tr>\n",
       "    <tr>\n",
       "      <th>2</th>\n",
       "      <td>Tablet Alpha</td>\n",
       "      <td>DeviceMakers</td>\n",
       "      <td>70</td>\n",
       "      <td>899.50</td>\n",
       "    </tr>\n",
       "    <tr>\n",
       "      <th>3</th>\n",
       "      <td>Fone de Ouvido UltraSound</td>\n",
       "      <td>AudioMax</td>\n",
       "      <td>100</td>\n",
       "      <td>199.99</td>\n",
       "    </tr>\n",
       "    <tr>\n",
       "      <th>4</th>\n",
       "      <td>Teclado Gamer</td>\n",
       "      <td>KeyMasters</td>\n",
       "      <td>40</td>\n",
       "      <td>349.99</td>\n",
       "    </tr>\n",
       "  </tbody>\n",
       "</table>\n",
       "</div>"
      ],
      "text/plain": [
       "                        nome    fabricante  quantidade    valor\n",
       "0             Smartphone XYZ      TechCorp          50  1499.99\n",
       "1               Notebook Pro    CompuWorld          30  3299.90\n",
       "2               Tablet Alpha  DeviceMakers          70   899.50\n",
       "3  Fone de Ouvido UltraSound      AudioMax         100   199.99\n",
       "4              Teclado Gamer    KeyMasters          40   349.99"
      ]
     },
     "execution_count": 26,
     "metadata": {},
     "output_type": "execute_result"
    }
   ],
   "source": [
    "produtos = pd.read_csv('produtos.csv')\n",
    "produtos.head()"
   ]
  },
  {
   "cell_type": "code",
   "execution_count": 27,
   "metadata": {},
   "outputs": [
    {
     "data": {
      "text/html": [
       "<div>\n",
       "<style scoped>\n",
       "    .dataframe tbody tr th:only-of-type {\n",
       "        vertical-align: middle;\n",
       "    }\n",
       "\n",
       "    .dataframe tbody tr th {\n",
       "        vertical-align: top;\n",
       "    }\n",
       "\n",
       "    .dataframe thead th {\n",
       "        text-align: right;\n",
       "    }\n",
       "</style>\n",
       "<table border=\"1\" class=\"dataframe\">\n",
       "  <thead>\n",
       "    <tr style=\"text-align: right;\">\n",
       "      <th></th>\n",
       "      <th>fabricante</th>\n",
       "      <th>quantidade</th>\n",
       "      <th>valor</th>\n",
       "    </tr>\n",
       "    <tr>\n",
       "      <th>nome</th>\n",
       "      <th></th>\n",
       "      <th></th>\n",
       "      <th></th>\n",
       "    </tr>\n",
       "  </thead>\n",
       "  <tbody>\n",
       "    <tr>\n",
       "      <th>Smartphone XYZ</th>\n",
       "      <td>TechCorp</td>\n",
       "      <td>50</td>\n",
       "      <td>1499.99</td>\n",
       "    </tr>\n",
       "    <tr>\n",
       "      <th>Notebook Pro</th>\n",
       "      <td>CompuWorld</td>\n",
       "      <td>30</td>\n",
       "      <td>3299.90</td>\n",
       "    </tr>\n",
       "    <tr>\n",
       "      <th>Tablet Alpha</th>\n",
       "      <td>DeviceMakers</td>\n",
       "      <td>70</td>\n",
       "      <td>899.50</td>\n",
       "    </tr>\n",
       "    <tr>\n",
       "      <th>Fone de Ouvido UltraSound</th>\n",
       "      <td>AudioMax</td>\n",
       "      <td>100</td>\n",
       "      <td>199.99</td>\n",
       "    </tr>\n",
       "    <tr>\n",
       "      <th>Teclado Gamer</th>\n",
       "      <td>KeyMasters</td>\n",
       "      <td>40</td>\n",
       "      <td>349.99</td>\n",
       "    </tr>\n",
       "  </tbody>\n",
       "</table>\n",
       "</div>"
      ],
      "text/plain": [
       "                             fabricante  quantidade    valor\n",
       "nome                                                        \n",
       "Smartphone XYZ                 TechCorp          50  1499.99\n",
       "Notebook Pro                 CompuWorld          30  3299.90\n",
       "Tablet Alpha               DeviceMakers          70   899.50\n",
       "Fone de Ouvido UltraSound      AudioMax         100   199.99\n",
       "Teclado Gamer                KeyMasters          40   349.99"
      ]
     },
     "execution_count": 27,
     "metadata": {},
     "output_type": "execute_result"
    }
   ],
   "source": [
    "by_name = produtos.set_index('nome')\n",
    "by_name.head()"
   ]
  },
  {
   "cell_type": "code",
   "execution_count": 28,
   "metadata": {},
   "outputs": [
    {
     "data": {
      "text/plain": [
       "'KeyMasters'"
      ]
     },
     "execution_count": 28,
     "metadata": {},
     "output_type": "execute_result"
    }
   ],
   "source": [
    "# id Teclado Gamer, na coluna fabricante\n",
    "by_name.loc['Teclado Gamer','fabricante']"
   ]
  },
  {
   "cell_type": "code",
   "execution_count": 29,
   "metadata": {},
   "outputs": [
    {
     "data": {
      "text/html": [
       "<div>\n",
       "<style scoped>\n",
       "    .dataframe tbody tr th:only-of-type {\n",
       "        vertical-align: middle;\n",
       "    }\n",
       "\n",
       "    .dataframe tbody tr th {\n",
       "        vertical-align: top;\n",
       "    }\n",
       "\n",
       "    .dataframe thead th {\n",
       "        text-align: right;\n",
       "    }\n",
       "</style>\n",
       "<table border=\"1\" class=\"dataframe\">\n",
       "  <thead>\n",
       "    <tr style=\"text-align: right;\">\n",
       "      <th></th>\n",
       "      <th>fabricante</th>\n",
       "      <th>quantidade</th>\n",
       "      <th>valor</th>\n",
       "    </tr>\n",
       "    <tr>\n",
       "      <th>nome</th>\n",
       "      <th></th>\n",
       "      <th></th>\n",
       "      <th></th>\n",
       "    </tr>\n",
       "  </thead>\n",
       "  <tbody>\n",
       "    <tr>\n",
       "      <th>Caixa de Som Bluetooth</th>\n",
       "      <td>SoundPro</td>\n",
       "      <td>80</td>\n",
       "      <td>299.90</td>\n",
       "    </tr>\n",
       "    <tr>\n",
       "      <th>Câmera Digital</th>\n",
       "      <td>PhotoKing</td>\n",
       "      <td>20</td>\n",
       "      <td>2199.00</td>\n",
       "    </tr>\n",
       "    <tr>\n",
       "      <th>Smartwatch Fit</th>\n",
       "      <td>TimeTech</td>\n",
       "      <td>90</td>\n",
       "      <td>599.00</td>\n",
       "    </tr>\n",
       "    <tr>\n",
       "      <th>Carregador Rápido 50W</th>\n",
       "      <td>PowerMax</td>\n",
       "      <td>200</td>\n",
       "      <td>89.90</td>\n",
       "    </tr>\n",
       "    <tr>\n",
       "      <th>HD Externo 1TB</th>\n",
       "      <td>DataStore</td>\n",
       "      <td>35</td>\n",
       "      <td>499.90</td>\n",
       "    </tr>\n",
       "    <tr>\n",
       "      <th>Memória RAM 16GB</th>\n",
       "      <td>SpeedMem</td>\n",
       "      <td>45</td>\n",
       "      <td>699.99</td>\n",
       "    </tr>\n",
       "    <tr>\n",
       "      <th>Placa de Vídeo GTX 3050</th>\n",
       "      <td>GraphiX</td>\n",
       "      <td>10</td>\n",
       "      <td>2499.99</td>\n",
       "    </tr>\n",
       "    <tr>\n",
       "      <th>Headset Wireless Gamer</th>\n",
       "      <td>SoundMax</td>\n",
       "      <td>55</td>\n",
       "      <td>599.90</td>\n",
       "    </tr>\n",
       "  </tbody>\n",
       "</table>\n",
       "</div>"
      ],
      "text/plain": [
       "                        fabricante  quantidade    valor\n",
       "nome                                                   \n",
       "Caixa de Som Bluetooth    SoundPro          80   299.90\n",
       "Câmera Digital           PhotoKing          20  2199.00\n",
       "Smartwatch Fit            TimeTech          90   599.00\n",
       "Carregador Rápido 50W     PowerMax         200    89.90\n",
       "HD Externo 1TB           DataStore          35   499.90\n",
       "Memória RAM 16GB          SpeedMem          45   699.99\n",
       "Placa de Vídeo GTX 3050    GraphiX          10  2499.99\n",
       "Headset Wireless Gamer    SoundMax          55   599.90"
      ]
     },
     "execution_count": 29,
     "metadata": {},
     "output_type": "execute_result"
    }
   ],
   "source": [
    "by_name.loc['Caixa de Som Bluetooth':'Headset Wireless Gamer']"
   ]
  },
  {
   "cell_type": "code",
   "execution_count": 30,
   "metadata": {},
   "outputs": [
    {
     "data": {
      "text/html": [
       "<div>\n",
       "<style scoped>\n",
       "    .dataframe tbody tr th:only-of-type {\n",
       "        vertical-align: middle;\n",
       "    }\n",
       "\n",
       "    .dataframe tbody tr th {\n",
       "        vertical-align: top;\n",
       "    }\n",
       "\n",
       "    .dataframe thead th {\n",
       "        text-align: right;\n",
       "    }\n",
       "</style>\n",
       "<table border=\"1\" class=\"dataframe\">\n",
       "  <thead>\n",
       "    <tr style=\"text-align: right;\">\n",
       "      <th></th>\n",
       "      <th>fabricante</th>\n",
       "      <th>quantidade</th>\n",
       "      <th>valor</th>\n",
       "    </tr>\n",
       "    <tr>\n",
       "      <th>nome</th>\n",
       "      <th></th>\n",
       "      <th></th>\n",
       "      <th></th>\n",
       "    </tr>\n",
       "  </thead>\n",
       "  <tbody>\n",
       "    <tr>\n",
       "      <th>Placa de Vídeo GTX 3050</th>\n",
       "      <td>GraphiX</td>\n",
       "      <td>10</td>\n",
       "      <td>2499.99</td>\n",
       "    </tr>\n",
       "    <tr>\n",
       "      <th>Impressora Multifuncional</th>\n",
       "      <td>PrintWorks</td>\n",
       "      <td>15</td>\n",
       "      <td>749.00</td>\n",
       "    </tr>\n",
       "    <tr>\n",
       "      <th>Câmera Digital</th>\n",
       "      <td>PhotoKing</td>\n",
       "      <td>20</td>\n",
       "      <td>2199.00</td>\n",
       "    </tr>\n",
       "    <tr>\n",
       "      <th>Monitor FullHD</th>\n",
       "      <td>ScreenTech</td>\n",
       "      <td>25</td>\n",
       "      <td>1099.90</td>\n",
       "    </tr>\n",
       "    <tr>\n",
       "      <th>Webcam Full HD</th>\n",
       "      <td>VideoConnect</td>\n",
       "      <td>25</td>\n",
       "      <td>399.90</td>\n",
       "    </tr>\n",
       "  </tbody>\n",
       "</table>\n",
       "</div>"
      ],
      "text/plain": [
       "                             fabricante  quantidade    valor\n",
       "nome                                                        \n",
       "Placa de Vídeo GTX 3050         GraphiX          10  2499.99\n",
       "Impressora Multifuncional    PrintWorks          15   749.00\n",
       "Câmera Digital                PhotoKing          20  2199.00\n",
       "Monitor FullHD               ScreenTech          25  1099.90\n",
       "Webcam Full HD             VideoConnect          25   399.90"
      ]
     },
     "execution_count": 30,
     "metadata": {},
     "output_type": "execute_result"
    }
   ],
   "source": [
    "by_name.sort_values(by='quantidade').head()"
   ]
  },
  {
   "cell_type": "code",
   "execution_count": 31,
   "metadata": {},
   "outputs": [
    {
     "data": {
      "text/html": [
       "<div>\n",
       "<style scoped>\n",
       "    .dataframe tbody tr th:only-of-type {\n",
       "        vertical-align: middle;\n",
       "    }\n",
       "\n",
       "    .dataframe tbody tr th {\n",
       "        vertical-align: top;\n",
       "    }\n",
       "\n",
       "    .dataframe thead th {\n",
       "        text-align: right;\n",
       "    }\n",
       "</style>\n",
       "<table border=\"1\" class=\"dataframe\">\n",
       "  <thead>\n",
       "    <tr style=\"text-align: right;\">\n",
       "      <th></th>\n",
       "      <th>nome</th>\n",
       "      <th>fabricante</th>\n",
       "      <th>quantidade</th>\n",
       "      <th>valor</th>\n",
       "    </tr>\n",
       "  </thead>\n",
       "  <tbody>\n",
       "    <tr>\n",
       "      <th>0</th>\n",
       "      <td>Smartphone XYZ</td>\n",
       "      <td>TechCorp</td>\n",
       "      <td>50</td>\n",
       "      <td>1499.99</td>\n",
       "    </tr>\n",
       "    <tr>\n",
       "      <th>1</th>\n",
       "      <td>Notebook Pro</td>\n",
       "      <td>CompuWorld</td>\n",
       "      <td>30</td>\n",
       "      <td>3299.90</td>\n",
       "    </tr>\n",
       "    <tr>\n",
       "      <th>2</th>\n",
       "      <td>Tablet Alpha</td>\n",
       "      <td>DeviceMakers</td>\n",
       "      <td>70</td>\n",
       "      <td>899.50</td>\n",
       "    </tr>\n",
       "    <tr>\n",
       "      <th>3</th>\n",
       "      <td>Fone de Ouvido UltraSound</td>\n",
       "      <td>AudioMax</td>\n",
       "      <td>100</td>\n",
       "      <td>199.99</td>\n",
       "    </tr>\n",
       "    <tr>\n",
       "      <th>4</th>\n",
       "      <td>Teclado Gamer</td>\n",
       "      <td>KeyMasters</td>\n",
       "      <td>40</td>\n",
       "      <td>349.99</td>\n",
       "    </tr>\n",
       "    <tr>\n",
       "      <th>5</th>\n",
       "      <td>Monitor FullHD</td>\n",
       "      <td>ScreenTech</td>\n",
       "      <td>25</td>\n",
       "      <td>1099.90</td>\n",
       "    </tr>\n",
       "  </tbody>\n",
       "</table>\n",
       "</div>"
      ],
      "text/plain": [
       "                        nome    fabricante  quantidade    valor\n",
       "0             Smartphone XYZ      TechCorp          50  1499.99\n",
       "1               Notebook Pro    CompuWorld          30  3299.90\n",
       "2               Tablet Alpha  DeviceMakers          70   899.50\n",
       "3  Fone de Ouvido UltraSound      AudioMax         100   199.99\n",
       "4              Teclado Gamer    KeyMasters          40   349.99\n",
       "5             Monitor FullHD    ScreenTech          25  1099.90"
      ]
     },
     "execution_count": 31,
     "metadata": {},
     "output_type": "execute_result"
    }
   ],
   "source": [
    "produtos.loc[:5]"
   ]
  },
  {
   "cell_type": "code",
   "execution_count": 32,
   "metadata": {},
   "outputs": [
    {
     "data": {
      "text/html": [
       "<div>\n",
       "<style scoped>\n",
       "    .dataframe tbody tr th:only-of-type {\n",
       "        vertical-align: middle;\n",
       "    }\n",
       "\n",
       "    .dataframe tbody tr th {\n",
       "        vertical-align: top;\n",
       "    }\n",
       "\n",
       "    .dataframe thead th {\n",
       "        text-align: right;\n",
       "    }\n",
       "</style>\n",
       "<table border=\"1\" class=\"dataframe\">\n",
       "  <thead>\n",
       "    <tr style=\"text-align: right;\">\n",
       "      <th></th>\n",
       "      <th>nome</th>\n",
       "      <th>fabricante</th>\n",
       "      <th>quantidade</th>\n",
       "      <th>valor</th>\n",
       "    </tr>\n",
       "  </thead>\n",
       "  <tbody>\n",
       "    <tr>\n",
       "      <th>0</th>\n",
       "      <td>Smartphone XYZ</td>\n",
       "      <td>TechCorp</td>\n",
       "      <td>50</td>\n",
       "      <td>1499.99</td>\n",
       "    </tr>\n",
       "    <tr>\n",
       "      <th>1</th>\n",
       "      <td>Notebook Pro</td>\n",
       "      <td>CompuWorld</td>\n",
       "      <td>30</td>\n",
       "      <td>3299.90</td>\n",
       "    </tr>\n",
       "    <tr>\n",
       "      <th>2</th>\n",
       "      <td>Tablet Alpha</td>\n",
       "      <td>DeviceMakers</td>\n",
       "      <td>70</td>\n",
       "      <td>899.50</td>\n",
       "    </tr>\n",
       "    <tr>\n",
       "      <th>3</th>\n",
       "      <td>Fone de Ouvido UltraSound</td>\n",
       "      <td>AudioMax</td>\n",
       "      <td>100</td>\n",
       "      <td>199.99</td>\n",
       "    </tr>\n",
       "    <tr>\n",
       "      <th>4</th>\n",
       "      <td>Teclado Gamer</td>\n",
       "      <td>KeyMasters</td>\n",
       "      <td>40</td>\n",
       "      <td>349.99</td>\n",
       "    </tr>\n",
       "  </tbody>\n",
       "</table>\n",
       "</div>"
      ],
      "text/plain": [
       "                        nome    fabricante  quantidade    valor\n",
       "0             Smartphone XYZ      TechCorp          50  1499.99\n",
       "1               Notebook Pro    CompuWorld          30  3299.90\n",
       "2               Tablet Alpha  DeviceMakers          70   899.50\n",
       "3  Fone de Ouvido UltraSound      AudioMax         100   199.99\n",
       "4              Teclado Gamer    KeyMasters          40   349.99"
      ]
     },
     "execution_count": 32,
     "metadata": {},
     "output_type": "execute_result"
    }
   ],
   "source": [
    "produtos.iloc[:5]"
   ]
  },
  {
   "cell_type": "code",
   "execution_count": 42,
   "metadata": {},
   "outputs": [
    {
     "data": {
      "text/plain": [
       "fabricante    SoundPro\n",
       "quantidade          50\n",
       "valor            299.9\n",
       "Name: Caixa de Som Bluetooth, dtype: object"
      ]
     },
     "execution_count": 42,
     "metadata": {},
     "output_type": "execute_result"
    }
   ],
   "source": [
    "by_name.loc['Caixa de Som Bluetooth','quantidade'] = 50\n",
    "by_name.loc['Caixa de Som Bluetooth']"
   ]
  },
  {
   "cell_type": "code",
   "execution_count": 43,
   "metadata": {},
   "outputs": [
    {
     "data": {
      "text/plain": [
       "fabricante    SoundPro\n",
       "quantidade          50\n",
       "valor            319.9\n",
       "Name: Caixa de Som Bluetooth, dtype: object"
      ]
     },
     "execution_count": 43,
     "metadata": {},
     "output_type": "execute_result"
    }
   ],
   "source": [
    "# alterar valor de 299.9 para 319.9\n",
    "by_name.loc['Caixa de Som Bluetooth','valor'] = 319.9\n",
    "by_name.loc['Caixa de Som Bluetooth']"
   ]
  },
  {
   "cell_type": "code",
   "execution_count": 47,
   "metadata": {},
   "outputs": [
    {
     "data": {
      "text/plain": [
       "fabricante\n",
       "AudioMax          Fone de Ouvido UltraSound\n",
       "ClickSolutions                Mouse Sem Fio\n",
       "CompuWorld                     Notebook Pro\n",
       "ConnectHub               Dock Station USB-C\n",
       "DataStore                    HD Externo 1TB\n",
       "DeviceMakers                   Tablet Alpha\n",
       "FlashStore                   SSD NVMe 512GB\n",
       "GraphiX             Placa de Vídeo GTX 3050\n",
       "KeyMasters                    Teclado Gamer\n",
       "LightKeys              Teclado Mecânico RGB\n",
       "PhotoKing                    Câmera Digital\n",
       "PowerMax              Carregador Rápido 50W\n",
       "PrintWorks        Impressora Multifuncional\n",
       "ScreenTech                   Monitor FullHD\n",
       "SoundMax             Headset Wireless Gamer\n",
       "SoundPro             Caixa de Som Bluetooth\n",
       "SpeedMem                   Memória RAM 16GB\n",
       "TechCorp                     Smartphone XYZ\n",
       "TimeTech                     Smartwatch Fit\n",
       "VideoConnect                 Webcam Full HD\n",
       "Name: nome, dtype: object"
      ]
     },
     "execution_count": 47,
     "metadata": {},
     "output_type": "execute_result"
    }
   ],
   "source": [
    "produtos.sort_values(by='nome')\n",
    "fabricante_nome = produtos.set_index('fabricante')\n",
    "fabricante_nome['nome'].sort_index()"
   ]
  }
 ],
 "metadata": {
  "kernelspec": {
   "display_name": "Python 3",
   "language": "python",
   "name": "python3"
  },
  "language_info": {
   "codemirror_mode": {
    "name": "ipython",
    "version": 3
   },
   "file_extension": ".py",
   "mimetype": "text/x-python",
   "name": "python",
   "nbconvert_exporter": "python",
   "pygments_lexer": "ipython3",
   "version": "3.12.3"
  }
 },
 "nbformat": 4,
 "nbformat_minor": 2
}
