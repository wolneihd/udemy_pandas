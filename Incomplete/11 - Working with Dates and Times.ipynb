{
 "cells": [
  {
   "cell_type": "markdown",
   "metadata": {},
   "source": [
    "# Working with Dates and Times"
   ]
  },
  {
   "cell_type": "code",
   "execution_count": 59,
   "metadata": {
    "scrolled": true
   },
   "outputs": [],
   "source": [
    "import pandas as pd\n",
    "import datetime as dt"
   ]
  },
  {
   "cell_type": "markdown",
   "metadata": {},
   "source": [
    "## Review of Python's datetime Module\n",
    "- The `datetime` module is built into the core Python programming language.\n",
    "- The common alias for the `datetime` module is `dt`.\n",
    "- A module is a Python source file; think of like an internal library that Python loads on demand.\n",
    "- The `datetime` module includes `date` and `datetime` classes for representing dates and datetimes.\n",
    "- The `date` constructor accepts arguments for year, month, and day. Python defaults to 0 for any missing values.\n",
    "- The `datetime` constructor accepts arguments for year, month, day, hour, minute, and second."
   ]
  },
  {
   "cell_type": "code",
   "execution_count": 60,
   "metadata": {},
   "outputs": [
    {
     "data": {
      "text/plain": [
       "2024"
      ]
     },
     "execution_count": 60,
     "metadata": {},
     "output_type": "execute_result"
    }
   ],
   "source": [
    "someday = dt.date(2024, 12, 5)\n",
    "someday.year"
   ]
  },
  {
   "cell_type": "code",
   "execution_count": 61,
   "metadata": {},
   "outputs": [
    {
     "data": {
      "text/plain": [
       "21"
      ]
     },
     "execution_count": 61,
     "metadata": {},
     "output_type": "execute_result"
    }
   ],
   "source": [
    "somehour = dt.datetime(2024, 12, 5, 21, 15)\n",
    "somehour.hour"
   ]
  },
  {
   "cell_type": "markdown",
   "metadata": {},
   "source": [
    "## The Timestamp and DatetimeIndex Objects\n",
    "\n",
    "- Pandas ships with several classes related to datetimes.\n",
    "- The **Timestamp** is similar to Python's **datetime** object (but with expanded functionality).\n",
    "- A **DatetimeIndex** is an index of **Timestamp** objects.\n",
    "- The **Timestamp** constructor accepts a string, a **datetime** object, or equivalent arguments to the **datetime** clas."
   ]
  },
  {
   "cell_type": "code",
   "execution_count": 62,
   "metadata": {
    "scrolled": true
   },
   "outputs": [
    {
     "data": {
      "text/plain": [
       "Timestamp('2024-12-05 21:15:00')"
      ]
     },
     "execution_count": 62,
     "metadata": {},
     "output_type": "execute_result"
    }
   ],
   "source": [
    "pd.Timestamp(2024, 12, 5, 21, 15)"
   ]
  },
  {
   "cell_type": "code",
   "execution_count": 63,
   "metadata": {},
   "outputs": [
    {
     "data": {
      "text/plain": [
       "Timestamp('2008-12-05 00:00:00')"
      ]
     },
     "execution_count": 63,
     "metadata": {},
     "output_type": "execute_result"
    }
   ],
   "source": [
    "pd.Timestamp(dt.date(2008, 12, 5))"
   ]
  },
  {
   "cell_type": "code",
   "execution_count": 64,
   "metadata": {},
   "outputs": [
    {
     "data": {
      "text/plain": [
       "Timestamp('2025-04-03 00:00:00')"
      ]
     },
     "execution_count": 64,
     "metadata": {},
     "output_type": "execute_result"
    }
   ],
   "source": [
    "pd.Timestamp('2025/04/03')"
   ]
  },
  {
   "cell_type": "code",
   "execution_count": 65,
   "metadata": {},
   "outputs": [
    {
     "data": {
      "text/plain": [
       "Timestamp('2024-05-12 00:00:00')"
      ]
     },
     "execution_count": 65,
     "metadata": {},
     "output_type": "execute_result"
    }
   ],
   "source": [
    "pd.Timestamp('05/12/2024')"
   ]
  },
  {
   "cell_type": "code",
   "execution_count": 66,
   "metadata": {},
   "outputs": [
    {
     "data": {
      "text/plain": [
       "0   2024-12-05 21:15:00\n",
       "dtype: datetime64[ns]"
      ]
     },
     "execution_count": 66,
     "metadata": {},
     "output_type": "execute_result"
    }
   ],
   "source": [
    "pd.Series(pd.Timestamp('2024-12-05 21:15:00'))"
   ]
  },
  {
   "cell_type": "code",
   "execution_count": 67,
   "metadata": {},
   "outputs": [
    {
     "data": {
      "text/plain": [
       "Timestamp('2024-12-05 21:15:00')"
      ]
     },
     "execution_count": 67,
     "metadata": {},
     "output_type": "execute_result"
    }
   ],
   "source": [
    "pd.Series(pd.Timestamp('2024-12-05 21:15:00')).iloc[0]"
   ]
  },
  {
   "cell_type": "code",
   "execution_count": 68,
   "metadata": {},
   "outputs": [
    {
     "data": {
      "text/plain": [
       "DatetimeIndex(['2025-01-01', '2025-01-02'], dtype='datetime64[ns]', freq=None)"
      ]
     },
     "execution_count": 68,
     "metadata": {},
     "output_type": "execute_result"
    }
   ],
   "source": [
    "pd.DatetimeIndex(['2025-01-01','2025-01-02'])"
   ]
  },
  {
   "cell_type": "markdown",
   "metadata": {},
   "source": [
    "## Create Range of Dates with pd.date_range Function\n",
    "- The `date_range` function generates and returns a **DatetimeIndex** holding a sequence of dates.\n",
    "- The function requires 2 of the 3 following parameters: `start`, `end`, and `period`.\n",
    "- With `start` and `end`, Pandas will assume a daily period/interval.\n",
    "- Every element within a **DatetimeIndex** is a **Timestamp**."
   ]
  },
  {
   "cell_type": "code",
   "execution_count": 69,
   "metadata": {},
   "outputs": [
    {
     "data": {
      "text/plain": [
       "DatetimeIndex(['2025-01-01', '2025-01-02', '2025-01-03', '2025-01-04',\n",
       "               '2025-01-05', '2025-01-06', '2025-01-07'],\n",
       "              dtype='datetime64[ns]', freq='D')"
      ]
     },
     "execution_count": 69,
     "metadata": {},
     "output_type": "execute_result"
    }
   ],
   "source": [
    "pd.date_range(start='2025-01-01', end='2025-01-07', freq='D')"
   ]
  },
  {
   "cell_type": "code",
   "execution_count": 70,
   "metadata": {},
   "outputs": [
    {
     "data": {
      "text/plain": [
       "DatetimeIndex(['2025-01-01', '2025-01-03', '2025-01-05', '2025-01-07'], dtype='datetime64[ns]', freq='2D')"
      ]
     },
     "execution_count": 70,
     "metadata": {},
     "output_type": "execute_result"
    }
   ],
   "source": [
    "pd.date_range(start='2025-01-01', end='2025-01-07', freq='2D')"
   ]
  },
  {
   "cell_type": "code",
   "execution_count": 71,
   "metadata": {},
   "outputs": [
    {
     "data": {
      "text/plain": [
       "<2 * Days>"
      ]
     },
     "execution_count": 71,
     "metadata": {},
     "output_type": "execute_result"
    }
   ],
   "source": [
    "pd.date_range(start='2025-01-01', end='2025-01-07', freq='2D').freq"
   ]
  },
  {
   "cell_type": "code",
   "execution_count": 72,
   "metadata": {},
   "outputs": [
    {
     "data": {
      "text/plain": [
       "<BusinessDay>"
      ]
     },
     "execution_count": 72,
     "metadata": {},
     "output_type": "execute_result"
    }
   ],
   "source": [
    "pd.date_range(start='2025-01-01', end='2025-01-07', freq='B').freq"
   ]
  },
  {
   "cell_type": "code",
   "execution_count": 73,
   "metadata": {},
   "outputs": [
    {
     "name": "stderr",
     "output_type": "stream",
     "text": [
      "C:\\Users\\f0fp0228\\AppData\\Local\\Temp\\ipykernel_20696\\536970050.py:9: FutureWarning: 'H' is deprecated and will be removed in a future version, please use 'h' instead.\n",
      "  pd.date_range(start=\"2025-01-01\", end=\"2025-01-31\", freq=\"H\")\n",
      "C:\\Users\\f0fp0228\\AppData\\Local\\Temp\\ipykernel_20696\\536970050.py:10: FutureWarning: 'H' is deprecated and will be removed in a future version, please use 'h' instead.\n",
      "  pd.date_range(start=\"2025-01-01\", end=\"2025-01-31\", freq=\"6H\")\n",
      "C:\\Users\\f0fp0228\\AppData\\Local\\Temp\\ipykernel_20696\\536970050.py:12: FutureWarning: 'M' is deprecated and will be removed in a future version, please use 'ME' instead.\n",
      "  pd.date_range(start=\"2025-01-01\", end=\"2025-12-31\", freq=\"M\")\n",
      "C:\\Users\\f0fp0228\\AppData\\Local\\Temp\\ipykernel_20696\\536970050.py:14: FutureWarning: 'A' is deprecated and will be removed in a future version, please use 'YE' instead.\n",
      "  pd.date_range(start=\"2025-01-01\", end=\"2050-12-31\", freq=\"A\")\n"
     ]
    },
    {
     "data": {
      "text/plain": [
       "DatetimeIndex(['1989-11-10', '1989-11-17', '1989-11-24', '1989-12-01',\n",
       "               '1989-12-08', '1989-12-15', '1989-12-22', '1989-12-29',\n",
       "               '1990-01-05', '1990-01-12', '1990-01-19', '1990-01-26',\n",
       "               '1990-02-02', '1990-02-09', '1990-02-16', '1990-02-23',\n",
       "               '1990-03-02', '1990-03-09', '1990-03-16', '1990-03-23',\n",
       "               '1990-03-30', '1990-04-06', '1990-04-13', '1990-04-20',\n",
       "               '1990-04-27', '1990-05-04', '1990-05-11', '1990-05-18',\n",
       "               '1990-05-25', '1990-06-01', '1990-06-08', '1990-06-15',\n",
       "               '1990-06-22', '1990-06-29', '1990-07-06', '1990-07-13',\n",
       "               '1990-07-20', '1990-07-27', '1990-08-03', '1990-08-10',\n",
       "               '1990-08-17', '1990-08-24', '1990-08-31', '1990-09-07',\n",
       "               '1990-09-14', '1990-09-21', '1990-09-28', '1990-10-05',\n",
       "               '1990-10-12', '1990-10-19', '1990-10-26', '1990-11-02',\n",
       "               '1990-11-09', '1990-11-16', '1990-11-23', '1990-11-30',\n",
       "               '1990-12-07', '1990-12-14', '1990-12-21', '1990-12-28',\n",
       "               '1991-01-04', '1991-01-11', '1991-01-18', '1991-01-25',\n",
       "               '1991-02-01', '1991-02-08', '1991-02-15', '1991-02-22',\n",
       "               '1991-03-01', '1991-03-08', '1991-03-15', '1991-03-22',\n",
       "               '1991-03-29', '1991-04-05', '1991-04-12'],\n",
       "              dtype='datetime64[ns]', freq='W-FRI')"
      ]
     },
     "execution_count": 73,
     "metadata": {},
     "output_type": "execute_result"
    }
   ],
   "source": [
    "pd.date_range(start=\"2025-01-01\", end=\"2025-01-07\")\n",
    "pd.date_range(start=\"2025-01-01\", end=\"2025-01-07\", freq=\"D\")\n",
    "pd.date_range(start=\"2025-01-01\", end=\"2025-01-07\", freq=\"2D\")\n",
    "pd.date_range(start=\"2025-01-01\", end=\"2025-01-07\", freq=\"B\") # business days - Monday-Friday\n",
    "pd.date_range(start=\"2025-01-01\", end=\"2025-01-31\", freq=\"W\")\n",
    "pd.date_range(start=\"2025-01-01\", end=\"2025-01-31\", freq=\"W-FRI\")\n",
    "pd.date_range(start=\"2025-01-01\", end=\"2025-01-31\", freq=\"W-THU\")\n",
    "\n",
    "pd.date_range(start=\"2025-01-01\", end=\"2025-01-31\", freq=\"H\")\n",
    "pd.date_range(start=\"2025-01-01\", end=\"2025-01-31\", freq=\"6H\")\n",
    "\n",
    "pd.date_range(start=\"2025-01-01\", end=\"2025-12-31\", freq=\"M\")\n",
    "pd.date_range(start=\"2025-01-01\", end=\"2025-12-31\", freq=\"MS\")\n",
    "pd.date_range(start=\"2025-01-01\", end=\"2050-12-31\", freq=\"A\")\n",
    "\n",
    "pd.date_range(start=\"2012-09-09\", freq=\"D\", periods=25)\n",
    "pd.date_range(start=\"2012-09-09\", freq=\"3D\", periods=40)\n",
    "pd.date_range(start=\"2012-09-09\", freq=\"B\", periods=180)\n",
    "\n",
    "pd.date_range(end=\"2013-10-31\", freq=\"D\", periods=20)\n",
    "pd.date_range(end=\"2016-12-31\", freq=\"B\", periods=75)\n",
    "pd.date_range(end=\"1991-04-12\", freq=\"W-FRI\", periods=75)"
   ]
  },
  {
   "cell_type": "code",
   "execution_count": 74,
   "metadata": {},
   "outputs": [
    {
     "name": "stderr",
     "output_type": "stream",
     "text": [
      "C:\\Users\\f0fp0228\\AppData\\Local\\Temp\\ipykernel_20696\\3416952674.py:1: FutureWarning: 'H' is deprecated and will be removed in a future version, please use 'h' instead.\n",
      "  pd.Series(pd.date_range(start='2025-01-01', end='2025-01-02', freq='H'), name='DATAS')\n"
     ]
    },
    {
     "data": {
      "text/plain": [
       "0    2025-01-01 00:00:00\n",
       "1    2025-01-01 01:00:00\n",
       "2    2025-01-01 02:00:00\n",
       "3    2025-01-01 03:00:00\n",
       "4    2025-01-01 04:00:00\n",
       "5    2025-01-01 05:00:00\n",
       "6    2025-01-01 06:00:00\n",
       "7    2025-01-01 07:00:00\n",
       "8    2025-01-01 08:00:00\n",
       "9    2025-01-01 09:00:00\n",
       "10   2025-01-01 10:00:00\n",
       "11   2025-01-01 11:00:00\n",
       "12   2025-01-01 12:00:00\n",
       "13   2025-01-01 13:00:00\n",
       "14   2025-01-01 14:00:00\n",
       "15   2025-01-01 15:00:00\n",
       "16   2025-01-01 16:00:00\n",
       "17   2025-01-01 17:00:00\n",
       "18   2025-01-01 18:00:00\n",
       "19   2025-01-01 19:00:00\n",
       "20   2025-01-01 20:00:00\n",
       "21   2025-01-01 21:00:00\n",
       "22   2025-01-01 22:00:00\n",
       "23   2025-01-01 23:00:00\n",
       "24   2025-01-02 00:00:00\n",
       "Name: DATAS, dtype: datetime64[ns]"
      ]
     },
     "execution_count": 74,
     "metadata": {},
     "output_type": "execute_result"
    }
   ],
   "source": [
    "pd.Series(pd.date_range(start='2025-01-01', end='2025-01-02', freq='H'), name='DATAS')"
   ]
  },
  {
   "cell_type": "code",
   "execution_count": 75,
   "metadata": {},
   "outputs": [
    {
     "data": {
      "text/html": [
       "<div>\n",
       "<style scoped>\n",
       "    .dataframe tbody tr th:only-of-type {\n",
       "        vertical-align: middle;\n",
       "    }\n",
       "\n",
       "    .dataframe tbody tr th {\n",
       "        vertical-align: top;\n",
       "    }\n",
       "\n",
       "    .dataframe thead th {\n",
       "        text-align: right;\n",
       "    }\n",
       "</style>\n",
       "<table border=\"1\" class=\"dataframe\">\n",
       "  <thead>\n",
       "    <tr style=\"text-align: right;\">\n",
       "      <th></th>\n",
       "      <th>Data</th>\n",
       "      <th>Weekday</th>\n",
       "      <th>Weekday_01</th>\n",
       "      <th>Weekday_02</th>\n",
       "    </tr>\n",
       "  </thead>\n",
       "  <tbody>\n",
       "    <tr>\n",
       "      <th>0</th>\n",
       "      <td>1991-08-04</td>\n",
       "      <td>Sunday</td>\n",
       "      <td>6</td>\n",
       "      <td>Sunday</td>\n",
       "    </tr>\n",
       "    <tr>\n",
       "      <th>1</th>\n",
       "      <td>1992-08-04</td>\n",
       "      <td>Tuesday</td>\n",
       "      <td>1</td>\n",
       "      <td>Tuesday</td>\n",
       "    </tr>\n",
       "    <tr>\n",
       "      <th>2</th>\n",
       "      <td>1993-08-04</td>\n",
       "      <td>Wednesday</td>\n",
       "      <td>2</td>\n",
       "      <td>Wednesday</td>\n",
       "    </tr>\n",
       "    <tr>\n",
       "      <th>3</th>\n",
       "      <td>1994-08-04</td>\n",
       "      <td>Thursday</td>\n",
       "      <td>3</td>\n",
       "      <td>Thursday</td>\n",
       "    </tr>\n",
       "    <tr>\n",
       "      <th>4</th>\n",
       "      <td>1995-08-04</td>\n",
       "      <td>Friday</td>\n",
       "      <td>4</td>\n",
       "      <td>Friday</td>\n",
       "    </tr>\n",
       "  </tbody>\n",
       "</table>\n",
       "</div>"
      ],
      "text/plain": [
       "        Data    Weekday  Weekday_01 Weekday_02\n",
       "0 1991-08-04     Sunday           6     Sunday\n",
       "1 1992-08-04    Tuesday           1    Tuesday\n",
       "2 1993-08-04  Wednesday           2  Wednesday\n",
       "3 1994-08-04   Thursday           3   Thursday\n",
       "4 1995-08-04     Friday           4     Friday"
      ]
     },
     "execution_count": 75,
     "metadata": {},
     "output_type": "execute_result"
    }
   ],
   "source": [
    "# Geração da sequência de anos\n",
    "date_range = pd.date_range(start=\"1991-08-04\", freq=\"YE\", periods=34)\n",
    "\n",
    "# Ajustando todas as datas para 04 de agosto\n",
    "adjusted_dates = date_range.map(lambda x: x.replace(month=8, day=4))\n",
    "\n",
    "pd.DataFrame({\n",
    "    \"Data\": adjusted_dates,\n",
    "    \"Weekday\": adjusted_dates.map(lambda x: x.day_name()),\n",
    "    \"Weekday_01\": pd.Series(adjusted_dates).dt.day_of_week,\n",
    "    \"Weekday_02\": pd.Series(adjusted_dates).dt.day_name(),\n",
    "}).head()"
   ]
  },
  {
   "cell_type": "markdown",
   "metadata": {},
   "source": [
    "## The dt Attribute\n",
    "- The `dt` attribute reveals a `DatetimeProperties` object with attributes/methods for working with datetimes. It is similar to the `str` attribute for string methods.\n",
    "- The `DatetimeProperties` object has attributes like `day`, `month`, and `year` to reveal information about each date in the **Series**.\n",
    "- The `day_name` method returns the written day of the week.\n",
    "- Attributes like `is_month_end` and `is_quarter_start` return Boolean **Series**."
   ]
  },
  {
   "cell_type": "code",
   "execution_count": 76,
   "metadata": {},
   "outputs": [
    {
     "data": {
      "text/plain": [
       "<pandas.core.indexes.accessors.DatetimeProperties object at 0x000001D97E68E000>"
      ]
     },
     "execution_count": 76,
     "metadata": {},
     "output_type": "execute_result"
    }
   ],
   "source": [
    "bunch_of_days = pd.Series(pd.date_range(start=\"2000-01-01\", end='2020-12-31', freq='24h 3D'))\n",
    "bunch_of_days.dt"
   ]
  },
  {
   "cell_type": "code",
   "execution_count": 77,
   "metadata": {},
   "outputs": [
    {
     "data": {
      "text/plain": [
       "0   2000-01-01\n",
       "1   2000-01-05\n",
       "2   2000-01-09\n",
       "3   2000-01-13\n",
       "4   2000-01-17\n",
       "dtype: datetime64[ns]"
      ]
     },
     "execution_count": 77,
     "metadata": {},
     "output_type": "execute_result"
    }
   ],
   "source": [
    "bunch_of_days.head()"
   ]
  },
  {
   "cell_type": "code",
   "execution_count": 78,
   "metadata": {},
   "outputs": [
    {
     "data": {
      "text/plain": [
       "0       2000\n",
       "1       2000\n",
       "2       2000\n",
       "3       2000\n",
       "4       2000\n",
       "        ... \n",
       "1913    2020\n",
       "1914    2020\n",
       "1915    2020\n",
       "1916    2020\n",
       "1917    2020\n",
       "Length: 1918, dtype: int32"
      ]
     },
     "execution_count": 78,
     "metadata": {},
     "output_type": "execute_result"
    }
   ],
   "source": [
    "bunch_of_days.dt.year"
   ]
  },
  {
   "cell_type": "code",
   "execution_count": 79,
   "metadata": {},
   "outputs": [
    {
     "data": {
      "text/plain": [
       "0      2000-01-01\n",
       "114    2001-04-01\n",
       "228    2002-07-01\n",
       "251    2002-10-01\n",
       "274    2003-01-01\n",
       "388    2004-04-01\n",
       "502    2005-07-01\n",
       "525    2005-10-01\n",
       "548    2006-01-01\n",
       "776    2008-07-01\n",
       "799    2008-10-01\n",
       "822    2009-01-01\n",
       "1027   2011-04-01\n",
       "1301   2014-04-01\n",
       "1415   2015-07-01\n",
       "1438   2015-10-01\n",
       "1461   2016-01-01\n",
       "1575   2017-04-01\n",
       "1689   2018-07-01\n",
       "1712   2018-10-01\n",
       "1735   2019-01-01\n",
       "1849   2020-04-01\n",
       "dtype: datetime64[ns]"
      ]
     },
     "execution_count": 79,
     "metadata": {},
     "output_type": "execute_result"
    }
   ],
   "source": [
    "bunch_of_days.dt.day\n",
    "bunch_of_days.dt.month\n",
    "bunch_of_days.dt.year\n",
    "bunch_of_days.dt.hour\n",
    "bunch_of_days.dt.day_of_year\n",
    "bunch_of_days.dt.day_name()\n",
    "\n",
    "bunch_of_days.dt.is_month_end\n",
    "bunch_of_days.dt.is_month_start\n",
    "\n",
    "bunch_of_days[bunch_of_days.dt.is_quarter_start]"
   ]
  },
  {
   "cell_type": "markdown",
   "metadata": {},
   "source": [
    "## Selecting Rows from a DataFrame with a DateTimeIndex\n",
    "- The `iloc` accessor is available for index position-based extraction.\n",
    "- The `loc` accessor accepts strings or **Timestamps** to extract by index label/value. Note that Python's `datetime` objects will not work.\n",
    "- Use list slicing to extract a sequence of dates. The `truncate` method is another alternative."
   ]
  },
  {
   "cell_type": "code",
   "execution_count": 80,
   "metadata": {},
   "outputs": [
    {
     "data": {
      "text/html": [
       "<div>\n",
       "<style scoped>\n",
       "    .dataframe tbody tr th:only-of-type {\n",
       "        vertical-align: middle;\n",
       "    }\n",
       "\n",
       "    .dataframe tbody tr th {\n",
       "        vertical-align: top;\n",
       "    }\n",
       "\n",
       "    .dataframe thead th {\n",
       "        text-align: right;\n",
       "    }\n",
       "</style>\n",
       "<table border=\"1\" class=\"dataframe\">\n",
       "  <thead>\n",
       "    <tr style=\"text-align: right;\">\n",
       "      <th></th>\n",
       "      <th>Open</th>\n",
       "      <th>High</th>\n",
       "      <th>Low</th>\n",
       "      <th>Close</th>\n",
       "      <th>Volume</th>\n",
       "    </tr>\n",
       "    <tr>\n",
       "      <th>Date</th>\n",
       "      <th></th>\n",
       "      <th></th>\n",
       "      <th></th>\n",
       "      <th></th>\n",
       "      <th></th>\n",
       "    </tr>\n",
       "  </thead>\n",
       "  <tbody>\n",
       "    <tr>\n",
       "      <th>1962-01-02</th>\n",
       "      <td>5.04610</td>\n",
       "      <td>5.04610</td>\n",
       "      <td>4.98716</td>\n",
       "      <td>4.98716</td>\n",
       "      <td>593562.955237</td>\n",
       "    </tr>\n",
       "    <tr>\n",
       "      <th>1962-01-03</th>\n",
       "      <td>4.98716</td>\n",
       "      <td>5.03292</td>\n",
       "      <td>4.98716</td>\n",
       "      <td>5.03292</td>\n",
       "      <td>445175.034277</td>\n",
       "    </tr>\n",
       "    <tr>\n",
       "      <th>1962-01-04</th>\n",
       "      <td>5.03292</td>\n",
       "      <td>5.03292</td>\n",
       "      <td>4.98052</td>\n",
       "      <td>4.98052</td>\n",
       "      <td>399513.586679</td>\n",
       "    </tr>\n",
       "    <tr>\n",
       "      <th>1962-01-05</th>\n",
       "      <td>4.97389</td>\n",
       "      <td>4.97389</td>\n",
       "      <td>4.87511</td>\n",
       "      <td>4.88166</td>\n",
       "      <td>559321.480565</td>\n",
       "    </tr>\n",
       "    <tr>\n",
       "      <th>1962-01-08</th>\n",
       "      <td>4.88166</td>\n",
       "      <td>4.88166</td>\n",
       "      <td>4.75059</td>\n",
       "      <td>4.78972</td>\n",
       "      <td>833273.771393</td>\n",
       "    </tr>\n",
       "  </tbody>\n",
       "</table>\n",
       "</div>"
      ],
      "text/plain": [
       "               Open     High      Low    Close         Volume\n",
       "Date                                                         \n",
       "1962-01-02  5.04610  5.04610  4.98716  4.98716  593562.955237\n",
       "1962-01-03  4.98716  5.03292  4.98716  5.03292  445175.034277\n",
       "1962-01-04  5.03292  5.03292  4.98052  4.98052  399513.586679\n",
       "1962-01-05  4.97389  4.97389  4.87511  4.88166  559321.480565\n",
       "1962-01-08  4.88166  4.88166  4.75059  4.78972  833273.771393"
      ]
     },
     "execution_count": 80,
     "metadata": {},
     "output_type": "execute_result"
    }
   ],
   "source": [
    "stocks = pd.read_csv('ibm.csv', parse_dates=['Date'], index_col='Date').sort_index()\n",
    "stocks.head()"
   ]
  },
  {
   "cell_type": "code",
   "execution_count": 81,
   "metadata": {},
   "outputs": [
    {
     "data": {
      "text/plain": [
       "Open           3.561240\n",
       "High           3.574410\n",
       "Low            3.554500\n",
       "Close          3.561240\n",
       "Volume    536491.781438\n",
       "Name: 1963-03-12 00:00:00, dtype: float64"
      ]
     },
     "execution_count": 81,
     "metadata": {},
     "output_type": "execute_result"
    }
   ],
   "source": [
    "stocks.iloc[300]"
   ]
  },
  {
   "cell_type": "code",
   "execution_count": 82,
   "metadata": {},
   "outputs": [
    {
     "data": {
      "text/plain": [
       "Open           5.032920\n",
       "High           5.032920\n",
       "Low            4.980520\n",
       "Close          4.980520\n",
       "Volume    399513.586679\n",
       "Name: 1962-01-04 00:00:00, dtype: float64"
      ]
     },
     "execution_count": 82,
     "metadata": {},
     "output_type": "execute_result"
    }
   ],
   "source": [
    "stocks.loc['1962-01-04']"
   ]
  },
  {
   "cell_type": "code",
   "execution_count": 83,
   "metadata": {},
   "outputs": [
    {
     "data": {
      "text/html": [
       "<div>\n",
       "<style scoped>\n",
       "    .dataframe tbody tr th:only-of-type {\n",
       "        vertical-align: middle;\n",
       "    }\n",
       "\n",
       "    .dataframe tbody tr th {\n",
       "        vertical-align: top;\n",
       "    }\n",
       "\n",
       "    .dataframe thead th {\n",
       "        text-align: right;\n",
       "    }\n",
       "</style>\n",
       "<table border=\"1\" class=\"dataframe\">\n",
       "  <thead>\n",
       "    <tr style=\"text-align: right;\">\n",
       "      <th></th>\n",
       "      <th>Open</th>\n",
       "      <th>High</th>\n",
       "      <th>Low</th>\n",
       "      <th>Close</th>\n",
       "      <th>Volume</th>\n",
       "    </tr>\n",
       "    <tr>\n",
       "      <th>Date</th>\n",
       "      <th></th>\n",
       "      <th></th>\n",
       "      <th></th>\n",
       "      <th></th>\n",
       "      <th></th>\n",
       "    </tr>\n",
       "  </thead>\n",
       "  <tbody>\n",
       "    <tr>\n",
       "      <th>1962-01-04</th>\n",
       "      <td>5.03292</td>\n",
       "      <td>5.03292</td>\n",
       "      <td>4.98052</td>\n",
       "      <td>4.98052</td>\n",
       "      <td>3.995136e+05</td>\n",
       "    </tr>\n",
       "    <tr>\n",
       "      <th>1962-01-05</th>\n",
       "      <td>4.97389</td>\n",
       "      <td>4.97389</td>\n",
       "      <td>4.87511</td>\n",
       "      <td>4.88166</td>\n",
       "      <td>5.593215e+05</td>\n",
       "    </tr>\n",
       "    <tr>\n",
       "      <th>1962-01-08</th>\n",
       "      <td>4.88166</td>\n",
       "      <td>4.88166</td>\n",
       "      <td>4.75059</td>\n",
       "      <td>4.78972</td>\n",
       "      <td>8.332738e+05</td>\n",
       "    </tr>\n",
       "    <tr>\n",
       "      <th>1962-01-09</th>\n",
       "      <td>4.81618</td>\n",
       "      <td>4.90820</td>\n",
       "      <td>4.81618</td>\n",
       "      <td>4.84867</td>\n",
       "      <td>7.533739e+05</td>\n",
       "    </tr>\n",
       "    <tr>\n",
       "      <th>1962-01-10</th>\n",
       "      <td>4.85531</td>\n",
       "      <td>4.88166</td>\n",
       "      <td>4.85531</td>\n",
       "      <td>4.85531</td>\n",
       "      <td>4.565868e+05</td>\n",
       "    </tr>\n",
       "    <tr>\n",
       "      <th>...</th>\n",
       "      <td>...</td>\n",
       "      <td>...</td>\n",
       "      <td>...</td>\n",
       "      <td>...</td>\n",
       "      <td>...</td>\n",
       "    </tr>\n",
       "    <tr>\n",
       "      <th>1962-03-29</th>\n",
       "      <td>4.70423</td>\n",
       "      <td>4.72405</td>\n",
       "      <td>4.69145</td>\n",
       "      <td>4.69145</td>\n",
       "      <td>3.538552e+05</td>\n",
       "    </tr>\n",
       "    <tr>\n",
       "      <th>1962-03-30</th>\n",
       "      <td>4.68491</td>\n",
       "      <td>4.68491</td>\n",
       "      <td>4.62558</td>\n",
       "      <td>4.64538</td>\n",
       "      <td>6.734731e+05</td>\n",
       "    </tr>\n",
       "    <tr>\n",
       "      <th>1962-04-02</th>\n",
       "      <td>4.64538</td>\n",
       "      <td>4.64538</td>\n",
       "      <td>4.58605</td>\n",
       "      <td>4.58605</td>\n",
       "      <td>5.707353e+05</td>\n",
       "    </tr>\n",
       "    <tr>\n",
       "      <th>1962-04-03</th>\n",
       "      <td>4.57971</td>\n",
       "      <td>4.57971</td>\n",
       "      <td>4.42171</td>\n",
       "      <td>4.46797</td>\n",
       "      <td>1.392597e+06</td>\n",
       "    </tr>\n",
       "    <tr>\n",
       "      <th>1962-04-04</th>\n",
       "      <td>4.46797</td>\n",
       "      <td>4.50749</td>\n",
       "      <td>4.44776</td>\n",
       "      <td>4.44776</td>\n",
       "      <td>9.930837e+05</td>\n",
       "    </tr>\n",
       "  </tbody>\n",
       "</table>\n",
       "<p>64 rows × 5 columns</p>\n",
       "</div>"
      ],
      "text/plain": [
       "               Open     High      Low    Close        Volume\n",
       "Date                                                        \n",
       "1962-01-04  5.03292  5.03292  4.98052  4.98052  3.995136e+05\n",
       "1962-01-05  4.97389  4.97389  4.87511  4.88166  5.593215e+05\n",
       "1962-01-08  4.88166  4.88166  4.75059  4.78972  8.332738e+05\n",
       "1962-01-09  4.81618  4.90820  4.81618  4.84867  7.533739e+05\n",
       "1962-01-10  4.85531  4.88166  4.85531  4.85531  4.565868e+05\n",
       "...             ...      ...      ...      ...           ...\n",
       "1962-03-29  4.70423  4.72405  4.69145  4.69145  3.538552e+05\n",
       "1962-03-30  4.68491  4.68491  4.62558  4.64538  6.734731e+05\n",
       "1962-04-02  4.64538  4.64538  4.58605  4.58605  5.707353e+05\n",
       "1962-04-03  4.57971  4.57971  4.42171  4.46797  1.392597e+06\n",
       "1962-04-04  4.46797  4.50749  4.44776  4.44776  9.930837e+05\n",
       "\n",
       "[64 rows x 5 columns]"
      ]
     },
     "execution_count": 83,
     "metadata": {},
     "output_type": "execute_result"
    }
   ],
   "source": [
    "stocks.loc['1962-01-04':'1962-04-04']"
   ]
  },
  {
   "cell_type": "code",
   "execution_count": 84,
   "metadata": {},
   "outputs": [
    {
     "data": {
      "text/html": [
       "<div>\n",
       "<style scoped>\n",
       "    .dataframe tbody tr th:only-of-type {\n",
       "        vertical-align: middle;\n",
       "    }\n",
       "\n",
       "    .dataframe tbody tr th {\n",
       "        vertical-align: top;\n",
       "    }\n",
       "\n",
       "    .dataframe thead th {\n",
       "        text-align: right;\n",
       "    }\n",
       "</style>\n",
       "<table border=\"1\" class=\"dataframe\">\n",
       "  <thead>\n",
       "    <tr style=\"text-align: right;\">\n",
       "      <th></th>\n",
       "      <th>Open</th>\n",
       "      <th>High</th>\n",
       "      <th>Low</th>\n",
       "      <th>Close</th>\n",
       "      <th>Volume</th>\n",
       "    </tr>\n",
       "    <tr>\n",
       "      <th>Date</th>\n",
       "      <th></th>\n",
       "      <th></th>\n",
       "      <th></th>\n",
       "      <th></th>\n",
       "      <th></th>\n",
       "    </tr>\n",
       "  </thead>\n",
       "  <tbody>\n",
       "    <tr>\n",
       "      <th>2014-03-04</th>\n",
       "      <td>128.870</td>\n",
       "      <td>129.827</td>\n",
       "      <td>128.802</td>\n",
       "      <td>129.329</td>\n",
       "      <td>6.825202e+06</td>\n",
       "    </tr>\n",
       "    <tr>\n",
       "      <th>2014-03-05</th>\n",
       "      <td>129.407</td>\n",
       "      <td>130.344</td>\n",
       "      <td>129.319</td>\n",
       "      <td>129.807</td>\n",
       "      <td>5.027617e+06</td>\n",
       "    </tr>\n",
       "    <tr>\n",
       "      <th>2014-03-06</th>\n",
       "      <td>129.963</td>\n",
       "      <td>130.676</td>\n",
       "      <td>129.631</td>\n",
       "      <td>130.159</td>\n",
       "      <td>5.503611e+06</td>\n",
       "    </tr>\n",
       "    <tr>\n",
       "      <th>2014-03-07</th>\n",
       "      <td>130.676</td>\n",
       "      <td>131.047</td>\n",
       "      <td>129.837</td>\n",
       "      <td>130.198</td>\n",
       "      <td>5.936539e+06</td>\n",
       "    </tr>\n",
       "    <tr>\n",
       "      <th>2014-03-10</th>\n",
       "      <td>130.090</td>\n",
       "      <td>130.666</td>\n",
       "      <td>128.890</td>\n",
       "      <td>129.309</td>\n",
       "      <td>6.623102e+06</td>\n",
       "    </tr>\n",
       "    <tr>\n",
       "      <th>...</th>\n",
       "      <td>...</td>\n",
       "      <td>...</td>\n",
       "      <td>...</td>\n",
       "      <td>...</td>\n",
       "      <td>...</td>\n",
       "    </tr>\n",
       "    <tr>\n",
       "      <th>2014-11-28</th>\n",
       "      <td>115.061</td>\n",
       "      <td>115.422</td>\n",
       "      <td>114.066</td>\n",
       "      <td>114.603</td>\n",
       "      <td>3.404302e+06</td>\n",
       "    </tr>\n",
       "    <tr>\n",
       "      <th>2014-12-01</th>\n",
       "      <td>114.485</td>\n",
       "      <td>115.393</td>\n",
       "      <td>113.988</td>\n",
       "      <td>114.144</td>\n",
       "      <td>5.899000e+06</td>\n",
       "    </tr>\n",
       "    <tr>\n",
       "      <th>2014-12-02</th>\n",
       "      <td>114.788</td>\n",
       "      <td>114.993</td>\n",
       "      <td>114.193</td>\n",
       "      <td>114.935</td>\n",
       "      <td>4.904622e+06</td>\n",
       "    </tr>\n",
       "    <tr>\n",
       "      <th>2014-12-03</th>\n",
       "      <td>114.788</td>\n",
       "      <td>116.252</td>\n",
       "      <td>114.485</td>\n",
       "      <td>116.252</td>\n",
       "      <td>9.106221e+06</td>\n",
       "    </tr>\n",
       "    <tr>\n",
       "      <th>2014-12-04</th>\n",
       "      <td>115.910</td>\n",
       "      <td>116.232</td>\n",
       "      <td>115.198</td>\n",
       "      <td>115.930</td>\n",
       "      <td>5.466839e+06</td>\n",
       "    </tr>\n",
       "  </tbody>\n",
       "</table>\n",
       "<p>193 rows × 5 columns</p>\n",
       "</div>"
      ],
      "text/plain": [
       "               Open     High      Low    Close        Volume\n",
       "Date                                                        \n",
       "2014-03-04  128.870  129.827  128.802  129.329  6.825202e+06\n",
       "2014-03-05  129.407  130.344  129.319  129.807  5.027617e+06\n",
       "2014-03-06  129.963  130.676  129.631  130.159  5.503611e+06\n",
       "2014-03-07  130.676  131.047  129.837  130.198  5.936539e+06\n",
       "2014-03-10  130.090  130.666  128.890  129.309  6.623102e+06\n",
       "...             ...      ...      ...      ...           ...\n",
       "2014-11-28  115.061  115.422  114.066  114.603  3.404302e+06\n",
       "2014-12-01  114.485  115.393  113.988  114.144  5.899000e+06\n",
       "2014-12-02  114.788  114.993  114.193  114.935  4.904622e+06\n",
       "2014-12-03  114.788  116.252  114.485  116.252  9.106221e+06\n",
       "2014-12-04  115.910  116.232  115.198  115.930  5.466839e+06\n",
       "\n",
       "[193 rows x 5 columns]"
      ]
     },
     "execution_count": 84,
     "metadata": {},
     "output_type": "execute_result"
    }
   ],
   "source": [
    "stocks.loc[pd.Timestamp(2014,3,4):pd.Timestamp(2014,12,4)]"
   ]
  },
  {
   "cell_type": "code",
   "execution_count": 85,
   "metadata": {},
   "outputs": [
    {
     "data": {
      "text/html": [
       "<div>\n",
       "<style scoped>\n",
       "    .dataframe tbody tr th:only-of-type {\n",
       "        vertical-align: middle;\n",
       "    }\n",
       "\n",
       "    .dataframe tbody tr th {\n",
       "        vertical-align: top;\n",
       "    }\n",
       "\n",
       "    .dataframe thead th {\n",
       "        text-align: right;\n",
       "    }\n",
       "</style>\n",
       "<table border=\"1\" class=\"dataframe\">\n",
       "  <thead>\n",
       "    <tr style=\"text-align: right;\">\n",
       "      <th></th>\n",
       "      <th>Open</th>\n",
       "      <th>High</th>\n",
       "      <th>Low</th>\n",
       "      <th>Close</th>\n",
       "      <th>Volume</th>\n",
       "    </tr>\n",
       "    <tr>\n",
       "      <th>Date</th>\n",
       "      <th></th>\n",
       "      <th></th>\n",
       "      <th></th>\n",
       "      <th></th>\n",
       "      <th></th>\n",
       "    </tr>\n",
       "  </thead>\n",
       "  <tbody>\n",
       "    <tr>\n",
       "      <th>2014-03-05</th>\n",
       "      <td>129.407</td>\n",
       "      <td>130.344</td>\n",
       "      <td>129.319</td>\n",
       "      <td>129.807</td>\n",
       "      <td>5.027617e+06</td>\n",
       "    </tr>\n",
       "    <tr>\n",
       "      <th>2014-03-06</th>\n",
       "      <td>129.963</td>\n",
       "      <td>130.676</td>\n",
       "      <td>129.631</td>\n",
       "      <td>130.159</td>\n",
       "      <td>5.503611e+06</td>\n",
       "    </tr>\n",
       "    <tr>\n",
       "      <th>2014-03-07</th>\n",
       "      <td>130.676</td>\n",
       "      <td>131.047</td>\n",
       "      <td>129.837</td>\n",
       "      <td>130.198</td>\n",
       "      <td>5.936539e+06</td>\n",
       "    </tr>\n",
       "  </tbody>\n",
       "</table>\n",
       "</div>"
      ],
      "text/plain": [
       "               Open     High      Low    Close        Volume\n",
       "Date                                                        \n",
       "2014-03-05  129.407  130.344  129.319  129.807  5.027617e+06\n",
       "2014-03-06  129.963  130.676  129.631  130.159  5.503611e+06\n",
       "2014-03-07  130.676  131.047  129.837  130.198  5.936539e+06"
      ]
     },
     "execution_count": 85,
     "metadata": {},
     "output_type": "execute_result"
    }
   ],
   "source": [
    "stocks.truncate('2014-03-05','2014-03-07')"
   ]
  },
  {
   "cell_type": "code",
   "execution_count": 86,
   "metadata": {},
   "outputs": [
    {
     "data": {
      "text/html": [
       "<div>\n",
       "<style scoped>\n",
       "    .dataframe tbody tr th:only-of-type {\n",
       "        vertical-align: middle;\n",
       "    }\n",
       "\n",
       "    .dataframe tbody tr th {\n",
       "        vertical-align: top;\n",
       "    }\n",
       "\n",
       "    .dataframe thead th {\n",
       "        text-align: right;\n",
       "    }\n",
       "</style>\n",
       "<table border=\"1\" class=\"dataframe\">\n",
       "  <thead>\n",
       "    <tr style=\"text-align: right;\">\n",
       "      <th></th>\n",
       "      <th>High</th>\n",
       "      <th>Low</th>\n",
       "      <th>Close</th>\n",
       "    </tr>\n",
       "    <tr>\n",
       "      <th>Date</th>\n",
       "      <th></th>\n",
       "      <th></th>\n",
       "      <th></th>\n",
       "    </tr>\n",
       "  </thead>\n",
       "  <tbody>\n",
       "    <tr>\n",
       "      <th>2014-03-04</th>\n",
       "      <td>129.827</td>\n",
       "      <td>128.802</td>\n",
       "      <td>129.329</td>\n",
       "    </tr>\n",
       "    <tr>\n",
       "      <th>2014-03-05</th>\n",
       "      <td>130.344</td>\n",
       "      <td>129.319</td>\n",
       "      <td>129.807</td>\n",
       "    </tr>\n",
       "    <tr>\n",
       "      <th>2014-03-06</th>\n",
       "      <td>130.676</td>\n",
       "      <td>129.631</td>\n",
       "      <td>130.159</td>\n",
       "    </tr>\n",
       "    <tr>\n",
       "      <th>2014-03-07</th>\n",
       "      <td>131.047</td>\n",
       "      <td>129.837</td>\n",
       "      <td>130.198</td>\n",
       "    </tr>\n",
       "    <tr>\n",
       "      <th>2014-03-10</th>\n",
       "      <td>130.666</td>\n",
       "      <td>128.890</td>\n",
       "      <td>129.309</td>\n",
       "    </tr>\n",
       "    <tr>\n",
       "      <th>...</th>\n",
       "      <td>...</td>\n",
       "      <td>...</td>\n",
       "      <td>...</td>\n",
       "    </tr>\n",
       "    <tr>\n",
       "      <th>2014-11-28</th>\n",
       "      <td>115.422</td>\n",
       "      <td>114.066</td>\n",
       "      <td>114.603</td>\n",
       "    </tr>\n",
       "    <tr>\n",
       "      <th>2014-12-01</th>\n",
       "      <td>115.393</td>\n",
       "      <td>113.988</td>\n",
       "      <td>114.144</td>\n",
       "    </tr>\n",
       "    <tr>\n",
       "      <th>2014-12-02</th>\n",
       "      <td>114.993</td>\n",
       "      <td>114.193</td>\n",
       "      <td>114.935</td>\n",
       "    </tr>\n",
       "    <tr>\n",
       "      <th>2014-12-03</th>\n",
       "      <td>116.252</td>\n",
       "      <td>114.485</td>\n",
       "      <td>116.252</td>\n",
       "    </tr>\n",
       "    <tr>\n",
       "      <th>2014-12-04</th>\n",
       "      <td>116.232</td>\n",
       "      <td>115.198</td>\n",
       "      <td>115.930</td>\n",
       "    </tr>\n",
       "  </tbody>\n",
       "</table>\n",
       "<p>193 rows × 3 columns</p>\n",
       "</div>"
      ],
      "text/plain": [
       "               High      Low    Close\n",
       "Date                                 \n",
       "2014-03-04  129.827  128.802  129.329\n",
       "2014-03-05  130.344  129.319  129.807\n",
       "2014-03-06  130.676  129.631  130.159\n",
       "2014-03-07  131.047  129.837  130.198\n",
       "2014-03-10  130.666  128.890  129.309\n",
       "...             ...      ...      ...\n",
       "2014-11-28  115.422  114.066  114.603\n",
       "2014-12-01  115.393  113.988  114.144\n",
       "2014-12-02  114.993  114.193  114.935\n",
       "2014-12-03  116.252  114.485  116.252\n",
       "2014-12-04  116.232  115.198  115.930\n",
       "\n",
       "[193 rows x 3 columns]"
      ]
     },
     "execution_count": 86,
     "metadata": {},
     "output_type": "execute_result"
    }
   ],
   "source": [
    "stocks.loc[pd.Timestamp(2014,3,4):pd.Timestamp(2014,12,4),'High':'Close']"
   ]
  },
  {
   "cell_type": "markdown",
   "metadata": {},
   "source": [
    "## The DateOffset Object\n",
    "- A **DateOffset** object adds time to a **Timestamp** to arrive at a new **Timestamp**.\n",
    "- The **DateOffset** constructor accepts `days`, `weeks`, `months`, `years` parameters, and more.\n",
    "- We can pass a **DateOffset** object to the `freq` parameter of the `pd.date_range` function."
   ]
  },
  {
   "cell_type": "code",
   "execution_count": 87,
   "metadata": {},
   "outputs": [
    {
     "data": {
      "text/html": [
       "<div>\n",
       "<style scoped>\n",
       "    .dataframe tbody tr th:only-of-type {\n",
       "        vertical-align: middle;\n",
       "    }\n",
       "\n",
       "    .dataframe tbody tr th {\n",
       "        vertical-align: top;\n",
       "    }\n",
       "\n",
       "    .dataframe thead th {\n",
       "        text-align: right;\n",
       "    }\n",
       "</style>\n",
       "<table border=\"1\" class=\"dataframe\">\n",
       "  <thead>\n",
       "    <tr style=\"text-align: right;\">\n",
       "      <th></th>\n",
       "      <th>Open</th>\n",
       "      <th>High</th>\n",
       "      <th>Low</th>\n",
       "      <th>Close</th>\n",
       "      <th>Volume</th>\n",
       "    </tr>\n",
       "    <tr>\n",
       "      <th>Date</th>\n",
       "      <th></th>\n",
       "      <th></th>\n",
       "      <th></th>\n",
       "      <th></th>\n",
       "      <th></th>\n",
       "    </tr>\n",
       "  </thead>\n",
       "  <tbody>\n",
       "    <tr>\n",
       "      <th>1962-01-02</th>\n",
       "      <td>5.04610</td>\n",
       "      <td>5.04610</td>\n",
       "      <td>4.98716</td>\n",
       "      <td>4.98716</td>\n",
       "      <td>593562.955237</td>\n",
       "    </tr>\n",
       "    <tr>\n",
       "      <th>1962-01-03</th>\n",
       "      <td>4.98716</td>\n",
       "      <td>5.03292</td>\n",
       "      <td>4.98716</td>\n",
       "      <td>5.03292</td>\n",
       "      <td>445175.034277</td>\n",
       "    </tr>\n",
       "    <tr>\n",
       "      <th>1962-01-04</th>\n",
       "      <td>5.03292</td>\n",
       "      <td>5.03292</td>\n",
       "      <td>4.98052</td>\n",
       "      <td>4.98052</td>\n",
       "      <td>399513.586679</td>\n",
       "    </tr>\n",
       "    <tr>\n",
       "      <th>1962-01-05</th>\n",
       "      <td>4.97389</td>\n",
       "      <td>4.97389</td>\n",
       "      <td>4.87511</td>\n",
       "      <td>4.88166</td>\n",
       "      <td>559321.480565</td>\n",
       "    </tr>\n",
       "    <tr>\n",
       "      <th>1962-01-08</th>\n",
       "      <td>4.88166</td>\n",
       "      <td>4.88166</td>\n",
       "      <td>4.75059</td>\n",
       "      <td>4.78972</td>\n",
       "      <td>833273.771393</td>\n",
       "    </tr>\n",
       "  </tbody>\n",
       "</table>\n",
       "</div>"
      ],
      "text/plain": [
       "               Open     High      Low    Close         Volume\n",
       "Date                                                         \n",
       "1962-01-02  5.04610  5.04610  4.98716  4.98716  593562.955237\n",
       "1962-01-03  4.98716  5.03292  4.98716  5.03292  445175.034277\n",
       "1962-01-04  5.03292  5.03292  4.98052  4.98052  399513.586679\n",
       "1962-01-05  4.97389  4.97389  4.87511  4.88166  559321.480565\n",
       "1962-01-08  4.88166  4.88166  4.75059  4.78972  833273.771393"
      ]
     },
     "execution_count": 87,
     "metadata": {},
     "output_type": "execute_result"
    }
   ],
   "source": [
    "stocks.head()"
   ]
  },
  {
   "cell_type": "code",
   "execution_count": 88,
   "metadata": {},
   "outputs": [
    {
     "data": {
      "text/plain": [
       "DatetimeIndex(['1962-01-02', '1962-01-03', '1962-01-04', '1962-01-05',\n",
       "               '1962-01-08', '1962-01-09', '1962-01-10', '1962-01-11',\n",
       "               '1962-01-12', '1962-01-15',\n",
       "               ...\n",
       "               '2023-09-28', '2023-09-29', '2023-10-02', '2023-10-03',\n",
       "               '2023-10-04', '2023-10-05', '2023-10-06', '2023-10-09',\n",
       "               '2023-10-10', '2023-10-11'],\n",
       "              dtype='datetime64[ns]', name='Date', length=15546, freq=None)"
      ]
     },
     "execution_count": 88,
     "metadata": {},
     "output_type": "execute_result"
    }
   ],
   "source": [
    "stocks.index"
   ]
  },
  {
   "cell_type": "code",
   "execution_count": 89,
   "metadata": {},
   "outputs": [
    {
     "data": {
      "text/plain": [
       "DatetimeIndex(['1962-01-07', '1962-01-08', '1962-01-09', '1962-01-10',\n",
       "               '1962-01-13', '1962-01-14', '1962-01-15', '1962-01-16',\n",
       "               '1962-01-17', '1962-01-20',\n",
       "               ...\n",
       "               '2023-10-03', '2023-10-04', '2023-10-07', '2023-10-08',\n",
       "               '2023-10-09', '2023-10-10', '2023-10-11', '2023-10-14',\n",
       "               '2023-10-15', '2023-10-16'],\n",
       "              dtype='datetime64[ns]', name='Date', length=15546, freq=None)"
      ]
     },
     "execution_count": 89,
     "metadata": {},
     "output_type": "execute_result"
    }
   ],
   "source": [
    "# Adicionando 05 dias ao array original\n",
    "stocks.index + pd.DateOffset(days=5)"
   ]
  },
  {
   "cell_type": "code",
   "execution_count": 90,
   "metadata": {},
   "outputs": [
    {
     "data": {
      "text/plain": [
       "DatetimeIndex(['1991-08-04', '1992-08-04', '1993-08-04', '1994-08-04',\n",
       "               '1995-08-04', '1996-08-04', '1997-08-04', '1998-08-04',\n",
       "               '1999-08-04', '2000-08-04', '2001-08-04', '2002-08-04',\n",
       "               '2003-08-04', '2004-08-04', '2005-08-04', '2006-08-04',\n",
       "               '2007-08-04', '2008-08-04', '2009-08-04', '2010-08-04',\n",
       "               '2011-08-04', '2012-08-04', '2013-08-04', '2014-08-04',\n",
       "               '2015-08-04', '2016-08-04', '2017-08-04', '2018-08-04',\n",
       "               '2019-08-04', '2020-08-04', '2021-08-04', '2022-08-04',\n",
       "               '2023-08-04'],\n",
       "              dtype='datetime64[ns]', freq='<DateOffset: years=1>')"
      ]
     },
     "execution_count": 90,
     "metadata": {},
     "output_type": "execute_result"
    }
   ],
   "source": [
    "pd.date_range(start='1991-08-04', end='2023-08-04', freq=pd.DateOffset(years=1))"
   ]
  },
  {
   "cell_type": "code",
   "execution_count": 91,
   "metadata": {},
   "outputs": [
    {
     "data": {
      "text/html": [
       "<div>\n",
       "<style scoped>\n",
       "    .dataframe tbody tr th:only-of-type {\n",
       "        vertical-align: middle;\n",
       "    }\n",
       "\n",
       "    .dataframe tbody tr th {\n",
       "        vertical-align: top;\n",
       "    }\n",
       "\n",
       "    .dataframe thead th {\n",
       "        text-align: right;\n",
       "    }\n",
       "</style>\n",
       "<table border=\"1\" class=\"dataframe\">\n",
       "  <thead>\n",
       "    <tr style=\"text-align: right;\">\n",
       "      <th></th>\n",
       "      <th>Data</th>\n",
       "      <th>Weekday</th>\n",
       "      <th>Idade</th>\n",
       "      <th>Weekday-pt</th>\n",
       "    </tr>\n",
       "  </thead>\n",
       "  <tbody>\n",
       "    <tr>\n",
       "      <th>0</th>\n",
       "      <td>1991-08-04</td>\n",
       "      <td>Sunday</td>\n",
       "      <td>0</td>\n",
       "      <td>Domingo</td>\n",
       "    </tr>\n",
       "    <tr>\n",
       "      <th>1</th>\n",
       "      <td>1992-08-04</td>\n",
       "      <td>Tuesday</td>\n",
       "      <td>1</td>\n",
       "      <td>Terça</td>\n",
       "    </tr>\n",
       "    <tr>\n",
       "      <th>2</th>\n",
       "      <td>1993-08-04</td>\n",
       "      <td>Wednesday</td>\n",
       "      <td>2</td>\n",
       "      <td>Quarta</td>\n",
       "    </tr>\n",
       "    <tr>\n",
       "      <th>3</th>\n",
       "      <td>1994-08-04</td>\n",
       "      <td>Thursday</td>\n",
       "      <td>3</td>\n",
       "      <td>Quinta</td>\n",
       "    </tr>\n",
       "    <tr>\n",
       "      <th>4</th>\n",
       "      <td>1995-08-04</td>\n",
       "      <td>Friday</td>\n",
       "      <td>4</td>\n",
       "      <td>Sexta</td>\n",
       "    </tr>\n",
       "    <tr>\n",
       "      <th>5</th>\n",
       "      <td>1996-08-04</td>\n",
       "      <td>Sunday</td>\n",
       "      <td>5</td>\n",
       "      <td>Domingo</td>\n",
       "    </tr>\n",
       "    <tr>\n",
       "      <th>6</th>\n",
       "      <td>1997-08-04</td>\n",
       "      <td>Monday</td>\n",
       "      <td>6</td>\n",
       "      <td>Segunda</td>\n",
       "    </tr>\n",
       "    <tr>\n",
       "      <th>7</th>\n",
       "      <td>1998-08-04</td>\n",
       "      <td>Tuesday</td>\n",
       "      <td>7</td>\n",
       "      <td>Terça</td>\n",
       "    </tr>\n",
       "    <tr>\n",
       "      <th>8</th>\n",
       "      <td>1999-08-04</td>\n",
       "      <td>Wednesday</td>\n",
       "      <td>8</td>\n",
       "      <td>Quarta</td>\n",
       "    </tr>\n",
       "    <tr>\n",
       "      <th>9</th>\n",
       "      <td>2000-08-04</td>\n",
       "      <td>Friday</td>\n",
       "      <td>9</td>\n",
       "      <td>Sexta</td>\n",
       "    </tr>\n",
       "  </tbody>\n",
       "</table>\n",
       "</div>"
      ],
      "text/plain": [
       "        Data    Weekday  Idade Weekday-pt\n",
       "0 1991-08-04     Sunday      0    Domingo\n",
       "1 1992-08-04    Tuesday      1      Terça\n",
       "2 1993-08-04  Wednesday      2     Quarta\n",
       "3 1994-08-04   Thursday      3     Quinta\n",
       "4 1995-08-04     Friday      4      Sexta\n",
       "5 1996-08-04     Sunday      5    Domingo\n",
       "6 1997-08-04     Monday      6    Segunda\n",
       "7 1998-08-04    Tuesday      7      Terça\n",
       "8 1999-08-04  Wednesday      8     Quarta\n",
       "9 2000-08-04     Friday      9      Sexta"
      ]
     },
     "execution_count": 91,
     "metadata": {},
     "output_type": "execute_result"
    }
   ],
   "source": [
    "niver = pd.date_range(start='1991-08-04', end='2025-08-04', freq=pd.DateOffset(years=1))\n",
    "\n",
    "# Função de tradução usando um dicionário\n",
    "def translate(weekday):\n",
    "    dias_traduzidos = {\n",
    "        'Sunday': 'Domingo',\n",
    "        'Monday': 'Segunda',\n",
    "        'Tuesday': 'Terça',\n",
    "        'Wednesday': 'Quarta',\n",
    "        'Thursday': 'Quinta',\n",
    "        'Friday': 'Sexta',\n",
    "        'Saturday': 'Sábado'\n",
    "    }\n",
    "    return dias_traduzidos.get(weekday, weekday)\n",
    "\n",
    "\n",
    "df_niver = pd.DataFrame({\n",
    "    \"Data\": niver,\n",
    "    \"Weekday\": pd.Series(niver).dt.day_name(),\n",
    "    \"Idade\": pd.Series(range(0,len(niver))),\n",
    "    \"Weekday-pt\": niver.map(lambda x: translate(x.day_name())) # Array\n",
    "})\n",
    "\n",
    "df_niver.head(10)"
   ]
  },
  {
   "cell_type": "code",
   "execution_count": 92,
   "metadata": {},
   "outputs": [],
   "source": [
    "import matplotlib.pyplot as plt"
   ]
  },
  {
   "cell_type": "code",
   "execution_count": 93,
   "metadata": {},
   "outputs": [],
   "source": [
    "labels = df_niver['Weekday-pt'].value_counts().index\n",
    "valores = df_niver['Weekday-pt'].value_counts().values"
   ]
  },
  {
   "cell_type": "code",
   "execution_count": 94,
   "metadata": {},
   "outputs": [
    {
     "data": {
      "image/png": "[encoded data removed]",
      "text/plain": [
       "<Figure size 640x480 with 1 Axes>"
      ]
     },
     "metadata": {},
     "output_type": "display_data"
    }
   ],
   "source": [
    "plt.bar(\n",
    "    x=labels, \n",
    "    height=valores,\n",
    "    )\n",
    "\n",
    "# Exibir o gráfico\n",
    "plt.xlabel('Dia da semana')\n",
    "plt.ylabel('Quantidade de aniversários (por data)')\n",
    "plt.title('Aniversários (04-08-1991 até 04-08-2025)')\n",
    "\n",
    "plt.grid(axis='y', linestyle='--', alpha=0.7)\n",
    "plt.xticks(rotation=45)\n",
    "\n",
    "plt.show()"
   ]
  },
  {
   "cell_type": "markdown",
   "metadata": {},
   "source": [
    "## Specialized Date Offsets\n",
    "- Pandas nests more specialized date offsets in `pd.tseries.offsets`.\n",
    "- We can add a different amount of time to each date (for example, month end, quarter end, year begin)"
   ]
  },
  {
   "cell_type": "code",
   "execution_count": 95,
   "metadata": {},
   "outputs": [
    {
     "data": {
      "text/html": [
       "<div>\n",
       "<style scoped>\n",
       "    .dataframe tbody tr th:only-of-type {\n",
       "        vertical-align: middle;\n",
       "    }\n",
       "\n",
       "    .dataframe tbody tr th {\n",
       "        vertical-align: top;\n",
       "    }\n",
       "\n",
       "    .dataframe thead th {\n",
       "        text-align: right;\n",
       "    }\n",
       "</style>\n",
       "<table border=\"1\" class=\"dataframe\">\n",
       "  <thead>\n",
       "    <tr style=\"text-align: right;\">\n",
       "      <th></th>\n",
       "      <th>Open</th>\n",
       "      <th>High</th>\n",
       "      <th>Low</th>\n",
       "      <th>Close</th>\n",
       "      <th>Volume</th>\n",
       "    </tr>\n",
       "    <tr>\n",
       "      <th>Date</th>\n",
       "      <th></th>\n",
       "      <th></th>\n",
       "      <th></th>\n",
       "      <th></th>\n",
       "      <th></th>\n",
       "    </tr>\n",
       "  </thead>\n",
       "  <tbody>\n",
       "    <tr>\n",
       "      <th>1962-01-02</th>\n",
       "      <td>5.04610</td>\n",
       "      <td>5.04610</td>\n",
       "      <td>4.98716</td>\n",
       "      <td>4.98716</td>\n",
       "      <td>593562.955237</td>\n",
       "    </tr>\n",
       "    <tr>\n",
       "      <th>1962-01-03</th>\n",
       "      <td>4.98716</td>\n",
       "      <td>5.03292</td>\n",
       "      <td>4.98716</td>\n",
       "      <td>5.03292</td>\n",
       "      <td>445175.034277</td>\n",
       "    </tr>\n",
       "    <tr>\n",
       "      <th>1962-01-04</th>\n",
       "      <td>5.03292</td>\n",
       "      <td>5.03292</td>\n",
       "      <td>4.98052</td>\n",
       "      <td>4.98052</td>\n",
       "      <td>399513.586679</td>\n",
       "    </tr>\n",
       "    <tr>\n",
       "      <th>1962-01-05</th>\n",
       "      <td>4.97389</td>\n",
       "      <td>4.97389</td>\n",
       "      <td>4.87511</td>\n",
       "      <td>4.88166</td>\n",
       "      <td>559321.480565</td>\n",
       "    </tr>\n",
       "    <tr>\n",
       "      <th>1962-01-08</th>\n",
       "      <td>4.88166</td>\n",
       "      <td>4.88166</td>\n",
       "      <td>4.75059</td>\n",
       "      <td>4.78972</td>\n",
       "      <td>833273.771393</td>\n",
       "    </tr>\n",
       "  </tbody>\n",
       "</table>\n",
       "</div>"
      ],
      "text/plain": [
       "               Open     High      Low    Close         Volume\n",
       "Date                                                         \n",
       "1962-01-02  5.04610  5.04610  4.98716  4.98716  593562.955237\n",
       "1962-01-03  4.98716  5.03292  4.98716  5.03292  445175.034277\n",
       "1962-01-04  5.03292  5.03292  4.98052  4.98052  399513.586679\n",
       "1962-01-05  4.97389  4.97389  4.87511  4.88166  559321.480565\n",
       "1962-01-08  4.88166  4.88166  4.75059  4.78972  833273.771393"
      ]
     },
     "execution_count": 95,
     "metadata": {},
     "output_type": "execute_result"
    }
   ],
   "source": [
    "stocks = pd.read_csv('ibm.csv', parse_dates=['Date'], index_col='Date').sort_index()\n",
    "stocks.head()"
   ]
  },
  {
   "cell_type": "code",
   "execution_count": 96,
   "metadata": {},
   "outputs": [
    {
     "data": {
      "text/plain": [
       "DatetimeIndex(['1962-01-31', '1962-01-31', '1962-01-31', '1962-01-31',\n",
       "               '1962-01-31', '1962-01-31', '1962-01-31', '1962-01-31',\n",
       "               '1962-01-31', '1962-01-31',\n",
       "               ...\n",
       "               '2023-09-30', '2023-09-30', '2023-10-31', '2023-10-31',\n",
       "               '2023-10-31', '2023-10-31', '2023-10-31', '2023-10-31',\n",
       "               '2023-10-31', '2023-10-31'],\n",
       "              dtype='datetime64[ns]', name='Date', length=15546, freq=None)"
      ]
     },
     "execution_count": 96,
     "metadata": {},
     "output_type": "execute_result"
    }
   ],
   "source": [
    "# move todos os dias para o final do mês.\n",
    "stocks.index + pd.tseries.offsets.MonthEnd()"
   ]
  },
  {
   "cell_type": "code",
   "execution_count": 97,
   "metadata": {},
   "outputs": [
    {
     "data": {
      "text/plain": [
       "DatetimeIndex(['1961-12-31', '1961-12-31', '1961-12-31', '1961-12-31',\n",
       "               '1961-12-31', '1961-12-31', '1961-12-31', '1961-12-31',\n",
       "               '1961-12-31', '1961-12-31',\n",
       "               ...\n",
       "               '2023-08-31', '2023-08-31', '2023-09-30', '2023-09-30',\n",
       "               '2023-09-30', '2023-09-30', '2023-09-30', '2023-09-30',\n",
       "               '2023-09-30', '2023-09-30'],\n",
       "              dtype='datetime64[ns]', name='Date', length=15546, freq=None)"
      ]
     },
     "execution_count": 97,
     "metadata": {},
     "output_type": "execute_result"
    }
   ],
   "source": [
    "# move todos os dias para o final do mês anterior.\n",
    "stocks.index - pd.tseries.offsets.MonthEnd()"
   ]
  },
  {
   "cell_type": "markdown",
   "metadata": {},
   "source": [
    "## Timedeltas\n",
    "- A **Timedelta** is a pandas object that represents a duration (an amount of time).\n",
    "- Subtracting two **Timestamp** objects will yield a **Timedelta** object (this applies to subtracting a **Series** from another **Series**).\n",
    "- The **Timedelta** constructor accepts parameters for time as well as string descriptions."
   ]
  },
  {
   "cell_type": "code",
   "execution_count": 98,
   "metadata": {},
   "outputs": [
    {
     "data": {
      "text/plain": [
       "Timedelta('513 days 17:04:49')"
      ]
     },
     "execution_count": 98,
     "metadata": {},
     "output_type": "execute_result"
    }
   ],
   "source": [
    "pd.Timestamp('2023-03-31 12:30:48') - pd.Timestamp('2021-11-02 19:25:59')"
   ]
  },
  {
   "cell_type": "code",
   "execution_count": 99,
   "metadata": {},
   "outputs": [
    {
     "data": {
      "text/plain": [
       "Timedelta('3 days 02:17:00')"
      ]
     },
     "execution_count": 99,
     "metadata": {},
     "output_type": "execute_result"
    }
   ],
   "source": [
    "pd.Timedelta(days=3, hours=2, minutes=17)"
   ]
  },
  {
   "cell_type": "code",
   "execution_count": 110,
   "metadata": {},
   "outputs": [
    {
     "name": "stderr",
     "output_type": "stream",
     "text": [
      "C:\\Users\\f0fp0228\\AppData\\Local\\Temp\\ipykernel_20696\\4121721141.py:1: UserWarning: Could not infer format, so each element will be parsed individually, falling back to `dateutil`. To ensure parsing is consistent and as-expected, please specify a format.\n",
      "  ecommerce = pd.read_csv('ecommerce.csv', index_col='ID',  parse_dates=['order_date','delivery_date'])\n",
      "C:\\Users\\f0fp0228\\AppData\\Local\\Temp\\ipykernel_20696\\4121721141.py:1: UserWarning: Could not infer format, so each element will be parsed individually, falling back to `dateutil`. To ensure parsing is consistent and as-expected, please specify a format.\n",
      "  ecommerce = pd.read_csv('ecommerce.csv', index_col='ID',  parse_dates=['order_date','delivery_date'])\n"
     ]
    },
    {
     "data": {
      "text/html": [
       "<div>\n",
       "<style scoped>\n",
       "    .dataframe tbody tr th:only-of-type {\n",
       "        vertical-align: middle;\n",
       "    }\n",
       "\n",
       "    .dataframe tbody tr th {\n",
       "        vertical-align: top;\n",
       "    }\n",
       "\n",
       "    .dataframe thead th {\n",
       "        text-align: right;\n",
       "    }\n",
       "</style>\n",
       "<table border=\"1\" class=\"dataframe\">\n",
       "  <thead>\n",
       "    <tr style=\"text-align: right;\">\n",
       "      <th></th>\n",
       "      <th>order_date</th>\n",
       "      <th>delivery_date</th>\n",
       "    </tr>\n",
       "    <tr>\n",
       "      <th>ID</th>\n",
       "      <th></th>\n",
       "      <th></th>\n",
       "    </tr>\n",
       "  </thead>\n",
       "  <tbody>\n",
       "    <tr>\n",
       "      <th>1</th>\n",
       "      <td>1998-05-24</td>\n",
       "      <td>1999-02-05</td>\n",
       "    </tr>\n",
       "    <tr>\n",
       "      <th>2</th>\n",
       "      <td>1992-04-22</td>\n",
       "      <td>1998-03-06</td>\n",
       "    </tr>\n",
       "    <tr>\n",
       "      <th>4</th>\n",
       "      <td>1991-02-10</td>\n",
       "      <td>1992-08-26</td>\n",
       "    </tr>\n",
       "    <tr>\n",
       "      <th>5</th>\n",
       "      <td>1992-07-21</td>\n",
       "      <td>1997-11-20</td>\n",
       "    </tr>\n",
       "    <tr>\n",
       "      <th>7</th>\n",
       "      <td>1993-09-02</td>\n",
       "      <td>1998-06-10</td>\n",
       "    </tr>\n",
       "  </tbody>\n",
       "</table>\n",
       "</div>"
      ],
      "text/plain": [
       "   order_date delivery_date\n",
       "ID                         \n",
       "1  1998-05-24    1999-02-05\n",
       "2  1992-04-22    1998-03-06\n",
       "4  1991-02-10    1992-08-26\n",
       "5  1992-07-21    1997-11-20\n",
       "7  1993-09-02    1998-06-10"
      ]
     },
     "execution_count": 110,
     "metadata": {},
     "output_type": "execute_result"
    }
   ],
   "source": [
    "ecommerce = pd.read_csv('ecommerce.csv', index_col='ID',  parse_dates=['order_date','delivery_date'])\n",
    "ecommerce.head()"
   ]
  },
  {
   "cell_type": "code",
   "execution_count": 112,
   "metadata": {},
   "outputs": [],
   "source": [
    "ecommerce['Delivery Time'] = ecommerce['delivery_date'] - ecommerce['order_date']"
   ]
  },
  {
   "cell_type": "code",
   "execution_count": 115,
   "metadata": {},
   "outputs": [
    {
     "data": {
      "text/html": [
       "<div>\n",
       "<style scoped>\n",
       "    .dataframe tbody tr th:only-of-type {\n",
       "        vertical-align: middle;\n",
       "    }\n",
       "\n",
       "    .dataframe tbody tr th {\n",
       "        vertical-align: top;\n",
       "    }\n",
       "\n",
       "    .dataframe thead th {\n",
       "        text-align: right;\n",
       "    }\n",
       "</style>\n",
       "<table border=\"1\" class=\"dataframe\">\n",
       "  <thead>\n",
       "    <tr style=\"text-align: right;\">\n",
       "      <th></th>\n",
       "      <th>order_date</th>\n",
       "      <th>delivery_date</th>\n",
       "      <th>Delivery Time</th>\n",
       "    </tr>\n",
       "    <tr>\n",
       "      <th>ID</th>\n",
       "      <th></th>\n",
       "      <th></th>\n",
       "      <th></th>\n",
       "    </tr>\n",
       "  </thead>\n",
       "  <tbody>\n",
       "    <tr>\n",
       "      <th>898</th>\n",
       "      <td>1990-05-24</td>\n",
       "      <td>1990-06-01</td>\n",
       "      <td>8 days</td>\n",
       "    </tr>\n",
       "    <tr>\n",
       "      <th>612</th>\n",
       "      <td>1994-08-11</td>\n",
       "      <td>1994-08-20</td>\n",
       "      <td>9 days</td>\n",
       "    </tr>\n",
       "    <tr>\n",
       "      <th>19</th>\n",
       "      <td>1998-05-10</td>\n",
       "      <td>1998-05-19</td>\n",
       "      <td>9 days</td>\n",
       "    </tr>\n",
       "    <tr>\n",
       "      <th>994</th>\n",
       "      <td>1993-06-03</td>\n",
       "      <td>1993-06-13</td>\n",
       "      <td>10 days</td>\n",
       "    </tr>\n",
       "    <tr>\n",
       "      <th>310</th>\n",
       "      <td>1997-09-20</td>\n",
       "      <td>1997-10-06</td>\n",
       "      <td>16 days</td>\n",
       "    </tr>\n",
       "    <tr>\n",
       "      <th>...</th>\n",
       "      <td>...</td>\n",
       "      <td>...</td>\n",
       "      <td>...</td>\n",
       "    </tr>\n",
       "    <tr>\n",
       "      <th>331</th>\n",
       "      <td>1990-09-18</td>\n",
       "      <td>1999-12-19</td>\n",
       "      <td>3379 days</td>\n",
       "    </tr>\n",
       "    <tr>\n",
       "      <th>130</th>\n",
       "      <td>1990-04-02</td>\n",
       "      <td>1999-08-16</td>\n",
       "      <td>3423 days</td>\n",
       "    </tr>\n",
       "    <tr>\n",
       "      <th>904</th>\n",
       "      <td>1990-02-13</td>\n",
       "      <td>1999-11-15</td>\n",
       "      <td>3562 days</td>\n",
       "    </tr>\n",
       "    <tr>\n",
       "      <th>314</th>\n",
       "      <td>1990-03-07</td>\n",
       "      <td>1999-12-25</td>\n",
       "      <td>3580 days</td>\n",
       "    </tr>\n",
       "    <tr>\n",
       "      <th>884</th>\n",
       "      <td>1990-01-20</td>\n",
       "      <td>1999-11-12</td>\n",
       "      <td>3583 days</td>\n",
       "    </tr>\n",
       "  </tbody>\n",
       "</table>\n",
       "<p>501 rows × 3 columns</p>\n",
       "</div>"
      ],
      "text/plain": [
       "    order_date delivery_date Delivery Time\n",
       "ID                                        \n",
       "898 1990-05-24    1990-06-01        8 days\n",
       "612 1994-08-11    1994-08-20        9 days\n",
       "19  1998-05-10    1998-05-19        9 days\n",
       "994 1993-06-03    1993-06-13       10 days\n",
       "310 1997-09-20    1997-10-06       16 days\n",
       "..         ...           ...           ...\n",
       "331 1990-09-18    1999-12-19     3379 days\n",
       "130 1990-04-02    1999-08-16     3423 days\n",
       "904 1990-02-13    1999-11-15     3562 days\n",
       "314 1990-03-07    1999-12-25     3580 days\n",
       "884 1990-01-20    1999-11-12     3583 days\n",
       "\n",
       "[501 rows x 3 columns]"
      ]
     },
     "execution_count": 115,
     "metadata": {},
     "output_type": "execute_result"
    }
   ],
   "source": [
    "ecommerce.sort_values(by='Delivery Time')"
   ]
  },
  {
   "cell_type": "code",
   "execution_count": 119,
   "metadata": {},
   "outputs": [
    {
     "data": {
      "text/html": [
       "<div>\n",
       "<style scoped>\n",
       "    .dataframe tbody tr th:only-of-type {\n",
       "        vertical-align: middle;\n",
       "    }\n",
       "\n",
       "    .dataframe tbody tr th {\n",
       "        vertical-align: top;\n",
       "    }\n",
       "\n",
       "    .dataframe thead th {\n",
       "        text-align: right;\n",
       "    }\n",
       "</style>\n",
       "<table border=\"1\" class=\"dataframe\">\n",
       "  <thead>\n",
       "    <tr style=\"text-align: right;\">\n",
       "      <th></th>\n",
       "      <th>order_date</th>\n",
       "      <th>delivery_date</th>\n",
       "      <th>Delivery Time</th>\n",
       "      <th>twice_long</th>\n",
       "    </tr>\n",
       "    <tr>\n",
       "      <th>ID</th>\n",
       "      <th></th>\n",
       "      <th></th>\n",
       "      <th></th>\n",
       "      <th></th>\n",
       "    </tr>\n",
       "  </thead>\n",
       "  <tbody>\n",
       "    <tr>\n",
       "      <th>1</th>\n",
       "      <td>1998-05-24</td>\n",
       "      <td>1999-02-05</td>\n",
       "      <td>257 days</td>\n",
       "      <td>1999-10-20</td>\n",
       "    </tr>\n",
       "    <tr>\n",
       "      <th>2</th>\n",
       "      <td>1992-04-22</td>\n",
       "      <td>1998-03-06</td>\n",
       "      <td>2144 days</td>\n",
       "      <td>2004-01-18</td>\n",
       "    </tr>\n",
       "    <tr>\n",
       "      <th>4</th>\n",
       "      <td>1991-02-10</td>\n",
       "      <td>1992-08-26</td>\n",
       "      <td>563 days</td>\n",
       "      <td>1994-03-12</td>\n",
       "    </tr>\n",
       "    <tr>\n",
       "      <th>5</th>\n",
       "      <td>1992-07-21</td>\n",
       "      <td>1997-11-20</td>\n",
       "      <td>1948 days</td>\n",
       "      <td>2003-03-22</td>\n",
       "    </tr>\n",
       "    <tr>\n",
       "      <th>7</th>\n",
       "      <td>1993-09-02</td>\n",
       "      <td>1998-06-10</td>\n",
       "      <td>1742 days</td>\n",
       "      <td>2003-03-18</td>\n",
       "    </tr>\n",
       "  </tbody>\n",
       "</table>\n",
       "</div>"
      ],
      "text/plain": [
       "   order_date delivery_date Delivery Time twice_long\n",
       "ID                                                  \n",
       "1  1998-05-24    1999-02-05      257 days 1999-10-20\n",
       "2  1992-04-22    1998-03-06     2144 days 2004-01-18\n",
       "4  1991-02-10    1992-08-26      563 days 1994-03-12\n",
       "5  1992-07-21    1997-11-20     1948 days 2003-03-22\n",
       "7  1993-09-02    1998-06-10     1742 days 2003-03-18"
      ]
     },
     "execution_count": 119,
     "metadata": {},
     "output_type": "execute_result"
    }
   ],
   "source": [
    "ecommerce['twice_long'] = ecommerce['delivery_date'] + ecommerce['Delivery Time']\n",
    "ecommerce.head()"
   ]
  }
 ],
 "metadata": {
  "anaconda-cloud": {},
  "kernelspec": {
   "display_name": "Python 3",
   "language": "python",
   "name": "python3"
  },
  "language_info": {
   "codemirror_mode": {
    "name": "ipython",
    "version": 3
   },
   "file_extension": ".py",
   "mimetype": "text/x-python",
   "name": "python",
   "nbconvert_exporter": "python",
   "pygments_lexer": "ipython3",
   "version": "3.12.3"
  }
 },
 "nbformat": 4,
 "nbformat_minor": 4
}
